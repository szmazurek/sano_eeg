{
 "cells": [
  {
   "cell_type": "code",
   "execution_count": null,
   "metadata": {},
   "outputs": [],
   "source": [
    "import pandas as pd\n",
    "import numpy as np\n",
    "from pathlib import Path\n",
    "import re\n",
    "import os"
   ]
  },
  {
   "cell_type": "code",
   "execution_count": null,
   "metadata": {},
   "outputs": [],
   "source": [
    "path_to_file = Path(\"raw_dataset\\chb16\\chb16-summary.txt\")\n",
    "open(path_to_file,'r').readlines()"
   ]
  },
  {
   "cell_type": "code",
   "execution_count": 106,
   "metadata": {},
   "outputs": [],
   "source": []
  },
  {
   "cell_type": "code",
   "execution_count": 107,
   "metadata": {},
   "outputs": [],
   "source": [
    "def get_patient_annotations(path_to_file : Path, savedir : Path):\n",
    "    raw_txt = open(path_to_file,'r')\n",
    "    raw_txt_lines = raw_txt.readlines()\n",
    "    event_dict_start = dict()\n",
    "    event_dict_stop = dict()\n",
    "    p = '[\\d]+'\n",
    "    for n,line in enumerate(raw_txt_lines):\n",
    "        if \"File Name\" in line:\n",
    "            current_file_name = line.split(': ')[1][:-1]\n",
    "        if \"Number of Seizures in File\" in line:\n",
    "            num_of_seizures = int(line[-2:])\n",
    "            if  num_of_seizures > 0:\n",
    "                events_in_recording = raw_txt_lines[n+1:n+num_of_seizures*2+1]\n",
    "                for event in events_in_recording:\n",
    "                    if \"Start Time\" in event:\n",
    "                        sub_ev = event.split(': ')[1]\n",
    "                        time_value = int(re.search(p,sub_ev).group())\n",
    "                \n",
    "                        if not current_file_name in event_dict_start.keys():\n",
    "                            event_dict_start[current_file_name] = [time_value]\n",
    "                        else:\n",
    "                            event_dict_start[current_file_name].append(time_value)\n",
    "                    elif \"End Time\" in event:\n",
    "                        sub_ev = event.split(': ')[1]\n",
    "                        \n",
    "                        time_value = int(re.search(p,sub_ev).group())\n",
    "                        \n",
    "                        if not current_file_name in event_dict_stop.keys():\n",
    "                            event_dict_stop[current_file_name] = [time_value]\n",
    "                            \n",
    "                        else:\n",
    "                            event_dict_stop[current_file_name].append(time_value)\n",
    "    df = pd.DataFrame.from_dict(event_dict_start,orient='index')\n",
    "    col_list = []\n",
    "    for n in range(1,len(df.columns)+1):\n",
    "        col_list.append(f'Seizure {n}')\n",
    "    df_start = pd.DataFrame.from_dict(event_dict_start,orient='index',columns=col_list)\n",
    "    df_end = pd.DataFrame.from_dict(event_dict_stop,orient='index',columns=col_list)\n",
    "    patient_id = current_file_name.split('_')[0]\n",
    "    if not os.path.exists(savedir):\n",
    "        os.mkdir(savedir)\n",
    "    dst_dir_start = os.path.join(savedir,f\"{patient_id}_start.csv\")\n",
    "    dst_dir_stop = os.path.join(savedir,f\"{patient_id}_stop.csv\")\n",
    "    pd.DataFrame.to_csv(df_start,dst_dir_start,index_label=False) \n",
    "    pd.DataFrame.to_csv(df_end,dst_dir_stop,index_label=False) "
   ]
  },
  {
   "cell_type": "code",
   "execution_count": 109,
   "metadata": {},
   "outputs": [],
   "source": [
    "def get_annotation_files(dataset_path):\n",
    "    patient_folders = os.listdir(dataset_path)\n",
    "    annotation_files = []\n",
    "    for folder in patient_folders:\n",
    "        patient_folder_path = os.path.join(dataset_path,folder)\n",
    "        if os.path.isdir(patient_folder_path):\n",
    "            patient_files = os.listdir(patient_folder_path)\n",
    "            for filename in patient_files:\n",
    "                if \"summary\" in filename:\n",
    "                    annotation_path = os.path.join(patient_folder_path,filename)\n",
    "                    get_patient_annotations(annotation_path,Path(\"event_tables\"))\n"
   ]
  },
  {
   "cell_type": "code",
   "execution_count": 110,
   "metadata": {},
   "outputs": [],
   "source": [
    "annotation_files = get_annotation_files(Path(\"raw_dataset\"))\n"
   ]
  },
  {
   "cell_type": "code",
   "execution_count": null,
   "metadata": {},
   "outputs": [],
   "source": [
    "new_df = pd.read_csv(Path(\"event_tables/chb16_stop.csv\"))"
   ]
  },
  {
   "cell_type": "code",
   "execution_count": null,
   "metadata": {},
   "outputs": [],
   "source": [
    "for row in new_df.iterrows():\n",
    "    print(row[0])\n",
    "    print(row[1].dropna().to_numpy())"
   ]
  }
 ],
 "metadata": {
  "kernelspec": {
   "display_name": "Python 3.10.4 ('sano_eeg')",
   "language": "python",
   "name": "python3"
  },
  "language_info": {
   "codemirror_mode": {
    "name": "ipython",
    "version": 3
   },
   "file_extension": ".py",
   "mimetype": "text/x-python",
   "name": "python",
   "nbconvert_exporter": "python",
   "pygments_lexer": "ipython3",
   "version": "3.10.4"
  },
  "orig_nbformat": 4,
  "vscode": {
   "interpreter": {
    "hash": "5382ef638fa5c12c498aced3863f52a5a1fec44f4008cfb813246c6500772437"
   }
  }
 },
 "nbformat": 4,
 "nbformat_minor": 2
}
