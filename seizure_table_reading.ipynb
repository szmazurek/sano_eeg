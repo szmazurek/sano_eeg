{
 "cells": [
  {
   "cell_type": "code",
   "execution_count": 2,
   "metadata": {},
   "outputs": [],
   "source": [
    "import pandas as pd\n",
    "import numpy as np\n",
    "from pathlib import Path\n",
    "import re\n",
    "import os\n",
    "from dataclasses import dataclass\n",
    "import utils"
   ]
  },
  {
   "cell_type": "code",
   "execution_count": 46,
   "metadata": {},
   "outputs": [],
   "source": [
    "@dataclass\n",
    "class SeizureDataLoader:\n",
    "    npy_dataset_path :str\n",
    "    event_tables_path : str\n",
    "    loso_patient : str = None\n",
    "\n",
    "    def _get_event_tables(self,patient_name):\n",
    "        event_table_list = os.listdir(self.event_tables_path)\n",
    "        patient_start_table, patient_stop_table = [os.path.join(self.event_tables_path,ev_table)\n",
    "        for ev_table in event_table_list if patient_name in ev_table]\n",
    "        start_events_dict = self._load_csv_table_events(patient_start_table)\n",
    "        stop_events_dict = self._load_csv_table_events(patient_stop_table)\n",
    "        return start_events_dict,stop_events_dict\n",
    "        \n",
    "    def _get_recording_events(self,events_dict,recording):\n",
    "        recording_list = list(events_dict[recording+'.edf'].values())\n",
    "        recording_events = [x for x in recording_list if not np.isnan(x)]\n",
    "        return recording_events\n",
    "\n",
    "    def _load_csv_table_events(self,table_path):\n",
    "        event_dict = pd.read_csv(table_path).to_dict('index')\n",
    "        return event_dict\n",
    "    \n",
    "    def create_dataloader(self):\n",
    "        patient_list = os.listdir(self.npy_dataset_path)\n",
    "        for patient in patient_list:\n",
    "            event_tables = self._get_event_tables(patient)\n",
    "            patient_path = os.path.join(self.npy_dataset_path,patient)\n",
    "            recording_list = os.listdir(patient_path)\n",
    "            for record in recording_list:\n",
    "                recording_path = os.path.join(patient_path,record)\n",
    "                record_id = record.split('.npy')[0]\n",
    "                start_event_tables = self._get_recording_events(event_tables[0],record_id)\n",
    "                stop_event_tables = self._get_recording_events(event_tables[1],record_id)\n",
    "                data_array = np.load(recording_path)\n",
    "                utils.extract_training_data_and_labels(\n",
    "                    \n",
    "                )\n",
    "    \n",
    "\n",
    "\n",
    "        "
   ]
  },
  {
   "cell_type": "code",
   "execution_count": 47,
   "metadata": {},
   "outputs": [],
   "source": [
    "dataloader = SeizureDataLoader(Path('event_tables'))"
   ]
  },
  {
   "cell_type": "code",
   "execution_count": 48,
   "metadata": {},
   "outputs": [],
   "source": [
    "df = dataloader._get_event_tables('chb16')"
   ]
  },
  {
   "cell_type": "code",
   "execution_count": 40,
   "metadata": {},
   "outputs": [
    {
     "data": {
      "text/plain": [
       "{'chb16_10.edf': {'Seizure 1': 2290,\n",
       "  'Seizure 2': nan,\n",
       "  'Seizure 3': nan,\n",
       "  'Seizure 4': nan},\n",
       " 'chb16_11.edf': {'Seizure 1': 1120,\n",
       "  'Seizure 2': nan,\n",
       "  'Seizure 3': nan,\n",
       "  'Seizure 4': nan},\n",
       " 'chb16_14.edf': {'Seizure 1': 1854,\n",
       "  'Seizure 2': nan,\n",
       "  'Seizure 3': nan,\n",
       "  'Seizure 4': nan},\n",
       " 'chb16_16.edf': {'Seizure 1': 1214,\n",
       "  'Seizure 2': nan,\n",
       "  'Seizure 3': nan,\n",
       "  'Seizure 4': nan},\n",
       " 'chb16_17.edf': {'Seizure 1': 227,\n",
       "  'Seizure 2': 1694.0,\n",
       "  'Seizure 3': 2162.0,\n",
       "  'Seizure 4': 3290.0},\n",
       " 'chb16_18.edf': {'Seizure 1': 627,\n",
       "  'Seizure 2': 1909.0,\n",
       "  'Seizure 3': nan,\n",
       "  'Seizure 4': nan}}"
      ]
     },
     "execution_count": 40,
     "metadata": {},
     "output_type": "execute_result"
    }
   ],
   "source": [
    "df[0]"
   ]
  },
  {
   "cell_type": "code",
   "execution_count": 49,
   "metadata": {},
   "outputs": [],
   "source": [
    "list_to_process =dataloader._get_recording_events(df[0], 'chb16_10')"
   ]
  },
  {
   "cell_type": "code",
   "execution_count": 50,
   "metadata": {},
   "outputs": [
    {
     "data": {
      "text/plain": [
       "[2290]"
      ]
     },
     "execution_count": 50,
     "metadata": {},
     "output_type": "execute_result"
    }
   ],
   "source": [
    "list_to_process"
   ]
  },
  {
   "cell_type": "code",
   "execution_count": 45,
   "metadata": {},
   "outputs": [
    {
     "data": {
      "text/plain": [
       "[2290]"
      ]
     },
     "execution_count": 45,
     "metadata": {},
     "output_type": "execute_result"
    }
   ],
   "source": [
    "[x for x in list_to_process if not np.isnan(x)]"
   ]
  },
  {
   "cell_type": "code",
   "execution_count": 27,
   "metadata": {},
   "outputs": [
    {
     "data": {
      "text/plain": [
       "{'chb16_10.edf': {'Seizure 1': 2290,\n",
       "  'Seizure 2': nan,\n",
       "  'Seizure 3': nan,\n",
       "  'Seizure 4': nan},\n",
       " 'chb16_11.edf': {'Seizure 1': 1120,\n",
       "  'Seizure 2': nan,\n",
       "  'Seizure 3': nan,\n",
       "  'Seizure 4': nan},\n",
       " 'chb16_14.edf': {'Seizure 1': 1854,\n",
       "  'Seizure 2': nan,\n",
       "  'Seizure 3': nan,\n",
       "  'Seizure 4': nan},\n",
       " 'chb16_16.edf': {'Seizure 1': 1214,\n",
       "  'Seizure 2': nan,\n",
       "  'Seizure 3': nan,\n",
       "  'Seizure 4': nan},\n",
       " 'chb16_17.edf': {'Seizure 1': 227,\n",
       "  'Seizure 2': 1694.0,\n",
       "  'Seizure 3': 2162.0,\n",
       "  'Seizure 4': 3290.0},\n",
       " 'chb16_18.edf': {'Seizure 1': 627,\n",
       "  'Seizure 2': 1909.0,\n",
       "  'Seizure 3': nan,\n",
       "  'Seizure 4': nan}}"
      ]
     },
     "execution_count": 27,
     "metadata": {},
     "output_type": "execute_result"
    }
   ],
   "source": [
    "df.to_dict('index')"
   ]
  },
  {
   "cell_type": "code",
   "execution_count": null,
   "metadata": {},
   "outputs": [],
   "source": [
    "path_to_file = Path(\"raw_dataset\\chb16\\chb16-summary.txt\")\n",
    "open(path_to_file,'r').readlines()"
   ]
  },
  {
   "cell_type": "code",
   "execution_count": 2,
   "metadata": {},
   "outputs": [],
   "source": [
    "string = 'chb10_27.edf'"
   ]
  },
  {
   "cell_type": "code",
   "execution_count": 4,
   "metadata": {},
   "outputs": [
    {
     "data": {
      "text/plain": [
       "'chb10_27'"
      ]
     },
     "execution_count": 4,
     "metadata": {},
     "output_type": "execute_result"
    }
   ],
   "source": [
    "string.split('.edf')[0]"
   ]
  },
  {
   "cell_type": "code",
   "execution_count": 7,
   "metadata": {},
   "outputs": [],
   "source": [
    "ds_path = Path('preprocessed_data')\n",
    "target_path = Path('npy_data')"
   ]
  },
  {
   "cell_type": "code",
   "execution_count": 11,
   "metadata": {},
   "outputs": [
    {
     "ename": "OSError",
     "evalue": "33260544 requested and 0 written",
     "output_type": "error",
     "traceback": [
      "\u001b[1;31m---------------------------------------------------------------------------\u001b[0m",
      "\u001b[1;31mOSError\u001b[0m                                   Traceback (most recent call last)",
      "Cell \u001b[1;32mIn [11], line 1\u001b[0m\n\u001b[1;32m----> 1\u001b[0m save_timeseries_array(ds_path,target_path)\n",
      "Cell \u001b[1;32mIn [10], line 15\u001b[0m, in \u001b[0;36msave_timeseries_array\u001b[1;34m(ds_path, target_path)\u001b[0m\n\u001b[0;32m     13\u001b[0m file_target \u001b[39m=\u001b[39m file\u001b[39m.\u001b[39msplit(\u001b[39m'\u001b[39m\u001b[39m.edf\u001b[39m\u001b[39m'\u001b[39m)[\u001b[39m0\u001b[39m] \u001b[39m+\u001b[39m\u001b[39m'\u001b[39m\u001b[39m.npy\u001b[39m\u001b[39m'\u001b[39m\n\u001b[0;32m     14\u001b[0m dst_folder \u001b[39m=\u001b[39m os\u001b[39m.\u001b[39mpath\u001b[39m.\u001b[39mjoin(dst_folder,file_target )\n\u001b[1;32m---> 15\u001b[0m np\u001b[39m.\u001b[39;49msave(dst_folder,array_data)\n",
      "File \u001b[1;32m<__array_function__ internals>:180\u001b[0m, in \u001b[0;36msave\u001b[1;34m(*args, **kwargs)\u001b[0m\n",
      "File \u001b[1;32ma:\\Users\\Szymon Mazurek\\anaconda3\\envs\\sano_eeg\\lib\\site-packages\\numpy\\lib\\npyio.py:502\u001b[0m, in \u001b[0;36msave\u001b[1;34m(file, arr, allow_pickle, fix_imports)\u001b[0m\n\u001b[0;32m    500\u001b[0m \u001b[39mwith\u001b[39;00m file_ctx \u001b[39mas\u001b[39;00m fid:\n\u001b[0;32m    501\u001b[0m     arr \u001b[39m=\u001b[39m np\u001b[39m.\u001b[39masanyarray(arr)\n\u001b[1;32m--> 502\u001b[0m     \u001b[39mformat\u001b[39;49m\u001b[39m.\u001b[39;49mwrite_array(fid, arr, allow_pickle\u001b[39m=\u001b[39;49mallow_pickle,\n\u001b[0;32m    503\u001b[0m                        pickle_kwargs\u001b[39m=\u001b[39;49m\u001b[39mdict\u001b[39;49m(fix_imports\u001b[39m=\u001b[39;49mfix_imports))\n",
      "File \u001b[1;32ma:\\Users\\Szymon Mazurek\\anaconda3\\envs\\sano_eeg\\lib\\site-packages\\numpy\\lib\\format.py:689\u001b[0m, in \u001b[0;36mwrite_array\u001b[1;34m(fp, array, version, allow_pickle, pickle_kwargs)\u001b[0m\n\u001b[0;32m    687\u001b[0m \u001b[39melse\u001b[39;00m:\n\u001b[0;32m    688\u001b[0m     \u001b[39mif\u001b[39;00m isfileobj(fp):\n\u001b[1;32m--> 689\u001b[0m         array\u001b[39m.\u001b[39;49mtofile(fp)\n\u001b[0;32m    690\u001b[0m     \u001b[39melse\u001b[39;00m:\n\u001b[0;32m    691\u001b[0m         \u001b[39mfor\u001b[39;00m chunk \u001b[39min\u001b[39;00m numpy\u001b[39m.\u001b[39mnditer(\n\u001b[0;32m    692\u001b[0m                 array, flags\u001b[39m=\u001b[39m[\u001b[39m'\u001b[39m\u001b[39mexternal_loop\u001b[39m\u001b[39m'\u001b[39m, \u001b[39m'\u001b[39m\u001b[39mbuffered\u001b[39m\u001b[39m'\u001b[39m, \u001b[39m'\u001b[39m\u001b[39mzerosize_ok\u001b[39m\u001b[39m'\u001b[39m],\n\u001b[0;32m    693\u001b[0m                 buffersize\u001b[39m=\u001b[39mbuffersize, order\u001b[39m=\u001b[39m\u001b[39m'\u001b[39m\u001b[39mC\u001b[39m\u001b[39m'\u001b[39m):\n",
      "\u001b[1;31mOSError\u001b[0m: 33260544 requested and 0 written"
     ]
    }
   ],
   "source": [
    "save_timeseries_array(ds_path,target_path)"
   ]
  },
  {
   "cell_type": "code",
   "execution_count": 107,
   "metadata": {},
   "outputs": [],
   "source": [
    "def get_patient_annotations(path_to_file : Path, savedir : Path):\n",
    "    raw_txt = open(path_to_file,'r')\n",
    "    raw_txt_lines = raw_txt.readlines()\n",
    "    event_dict_start = dict()\n",
    "    event_dict_stop = dict()\n",
    "    p = '[\\d]+'\n",
    "    for n,line in enumerate(raw_txt_lines):\n",
    "        if \"File Name\" in line:\n",
    "            current_file_name = line.split(': ')[1][:-1]\n",
    "        if \"Number of Seizures in File\" in line:\n",
    "            num_of_seizures = int(line[-2:])\n",
    "            if  num_of_seizures > 0:\n",
    "                events_in_recording = raw_txt_lines[n+1:n+num_of_seizures*2+1]\n",
    "                for event in events_in_recording:\n",
    "                    if \"Start Time\" in event:\n",
    "                        sub_ev = event.split(': ')[1]\n",
    "                        time_value = int(re.search(p,sub_ev).group())\n",
    "                \n",
    "                        if not current_file_name in event_dict_start.keys():\n",
    "                            event_dict_start[current_file_name] = [time_value]\n",
    "                        else:\n",
    "                            event_dict_start[current_file_name].append(time_value)\n",
    "                    elif \"End Time\" in event:\n",
    "                        sub_ev = event.split(': ')[1]\n",
    "                        \n",
    "                        time_value = int(re.search(p,sub_ev).group())\n",
    "                        \n",
    "                        if not current_file_name in event_dict_stop.keys():\n",
    "                            event_dict_stop[current_file_name] = [time_value]\n",
    "                            \n",
    "                        else:\n",
    "                            event_dict_stop[current_file_name].append(time_value)\n",
    "    df = pd.DataFrame.from_dict(event_dict_start,orient='index')\n",
    "    col_list = []\n",
    "    for n in range(1,len(df.columns)+1):\n",
    "        col_list.append(f'Seizure {n}')\n",
    "    df_start = pd.DataFrame.from_dict(event_dict_start,orient='index',columns=col_list)\n",
    "    df_end = pd.DataFrame.from_dict(event_dict_stop,orient='index',columns=col_list)\n",
    "    patient_id = current_file_name.split('_')[0]\n",
    "    if not os.path.exists(savedir):\n",
    "        os.mkdir(savedir)\n",
    "    dst_dir_start = os.path.join(savedir,f\"{patient_id}_start.csv\")\n",
    "    dst_dir_stop = os.path.join(savedir,f\"{patient_id}_stop.csv\")\n",
    "    pd.DataFrame.to_csv(df_start,dst_dir_start,index_label=False) \n",
    "    pd.DataFrame.to_csv(df_end,dst_dir_stop,index_label=False) "
   ]
  },
  {
   "cell_type": "code",
   "execution_count": 109,
   "metadata": {},
   "outputs": [],
   "source": [
    "def get_annotation_files(dataset_path):\n",
    "    patient_folders = os.listdir(dataset_path)\n",
    "    for folder in patient_folders:\n",
    "        patient_folder_path = os.path.join(dataset_path,folder)\n",
    "        if os.path.isdir(patient_folder_path):\n",
    "            patient_files = os.listdir(patient_folder_path)\n",
    "            for filename in patient_files:\n",
    "                if \"summary\" in filename:\n",
    "                    annotation_path = os.path.join(patient_folder_path,filename)\n",
    "                    get_patient_annotations(annotation_path,Path(\"event_tables\"))\n"
   ]
  },
  {
   "cell_type": "code",
   "execution_count": 110,
   "metadata": {},
   "outputs": [],
   "source": [
    "annotation_files = get_annotation_files(Path(\"raw_dataset\"))\n"
   ]
  }
 ],
 "metadata": {
  "kernelspec": {
   "display_name": "Python 3.10.4 ('sano_eeg')",
   "language": "python",
   "name": "python3"
  },
  "language_info": {
   "codemirror_mode": {
    "name": "ipython",
    "version": 3
   },
   "file_extension": ".py",
   "mimetype": "text/x-python",
   "name": "python",
   "nbconvert_exporter": "python",
   "pygments_lexer": "ipython3",
   "version": "3.10.4"
  },
  "orig_nbformat": 4,
  "vscode": {
   "interpreter": {
    "hash": "5382ef638fa5c12c498aced3863f52a5a1fec44f4008cfb813246c6500772437"
   }
  }
 },
 "nbformat": 4,
 "nbformat_minor": 2
}
