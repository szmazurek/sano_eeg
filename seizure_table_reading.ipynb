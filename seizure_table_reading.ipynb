{
 "cells": [
  {
   "cell_type": "code",
   "execution_count": 1,
   "metadata": {},
   "outputs": [
    {
     "name": "stderr",
     "output_type": "stream",
     "text": [
      "a:\\Users\\Szymon Mazurek\\anaconda3\\envs\\sano_eeg\\lib\\site-packages\\tqdm\\auto.py:22: TqdmWarning: IProgress not found. Please update jupyter and ipywidgets. See https://ipywidgets.readthedocs.io/en/stable/user_install.html\n",
      "  from .autonotebook import tqdm as notebook_tqdm\n"
     ]
    }
   ],
   "source": [
    "import pandas as pd\n",
    "import numpy as np\n",
    "from pathlib import Path\n",
    "import re\n",
    "import os\n",
    "from dataclasses import dataclass\n",
    "import utils"
   ]
  },
  {
   "cell_type": "code",
   "execution_count": 30,
   "metadata": {},
   "outputs": [],
   "source": [
    "#TODO IMPLEMENT LOSO FEATURE\n",
    "@dataclass\n",
    "class SeizureDataLoader:\n",
    "    npy_dataset_path :str\n",
    "    event_tables_path : str\n",
    "    loso_patient : str = None\n",
    "    sampling_f : int = 256\n",
    "    seizure_lookback: int = 600\n",
    "    sample_timestep: int = 5\n",
    "    overlap: int = 0\n",
    "\n",
    "    def _get_event_tables(self,patient_name):\n",
    "        event_table_list = os.listdir(self.event_tables_path)\n",
    "        patient_start_table, patient_stop_table = [os.path.join(self.event_tables_path,ev_table)\n",
    "        for ev_table in event_table_list if patient_name in ev_table]\n",
    "        start_events_dict = self._load_csv_table_events(patient_start_table)\n",
    "        stop_events_dict = self._load_csv_table_events(patient_stop_table)\n",
    "        return start_events_dict,stop_events_dict\n",
    "        \n",
    "    def _get_recording_events(self,events_dict,recording):\n",
    "        recording_list = list(events_dict[recording+'.edf'].values())\n",
    "        recording_events = [int(x) for x in recording_list if not np.isnan(x)]\n",
    "        return recording_events\n",
    "\n",
    "    def _load_csv_table_events(self,table_path):\n",
    "        event_dict = pd.read_csv(table_path).to_dict('index')\n",
    "        return event_dict\n",
    "    \n",
    "    def _create_edges(self):\n",
    "        ## TODO implement creation of nodes based on PLV? Ask Rosmary about that\n",
    "        pass\n",
    "\n",
    "    def _get_labels_and_features(self):\n",
    "        patient_list = os.listdir(self.npy_dataset_path)\n",
    "        for patient in patient_list:\n",
    "            event_tables = self._get_event_tables(patient)\n",
    "            patient_path = os.path.join(self.npy_dataset_path,patient)\n",
    "            recording_list = os.listdir(patient_path)\n",
    "            for record in recording_list:\n",
    "                \n",
    "                recording_path = os.path.join(patient_path,record)\n",
    "                record_id = record.split('.npy')[0]\n",
    "                start_event_tables = self._get_recording_events(event_tables[0],record_id)\n",
    "                stop_event_tables = self._get_recording_events(event_tables[1],record_id)\n",
    "                data_array = np.load(recording_path)\n",
    "                ##TODO add a gateway to reject seizure periods shorter than lookback\n",
    "                features,labels,time_labels = utils.extract_training_data_and_labels(\n",
    "                    data_array,\n",
    "                    start_event_tables,\n",
    "                    stop_event_tables,\n",
    "                    fs = self.sampling_f,\n",
    "                    seizure_lookback = self.seizure_lookback,\n",
    "                    sample_timestep = self.sample_timestep,\n",
    "                    overlap = self.overlap,\n",
    "                )\n",
    "\n",
    "                try:\n",
    "                    self._features = np.concatenate((self._features, features))\n",
    "                    self._labels = np.concatenate((self._labels, labels))\n",
    "                    self._time_labels = np.concatenate((self._time_labels , time_labels))\n",
    "                except:\n",
    "                    print(\"Creating initial attributes\")\n",
    "                    self._features = features\n",
    "                    self._labels = labels\n",
    "                    self._time_labels = time_labels\n",
    "                \n",
    "                \n",
    "\n",
    "                \n",
    "\n",
    "        "
   ]
  },
  {
   "cell_type": "code",
   "execution_count": 31,
   "metadata": {},
   "outputs": [],
   "source": [
    "dataloader = SeizureDataLoader(Path('npy_data'),Path('event_tables'))"
   ]
  },
  {
   "cell_type": "code",
   "execution_count": 34,
   "metadata": {},
   "outputs": [
    {
     "data": {
      "text/plain": [
       "(2597, 18, 1, 1280)"
      ]
     },
     "execution_count": 34,
     "metadata": {},
     "output_type": "execute_result"
    }
   ],
   "source": [
    "dataloader._features.shape"
   ]
  },
  {
   "cell_type": "code",
   "execution_count": 33,
   "metadata": {},
   "outputs": [
    {
     "name": "stdout",
     "output_type": "stream",
     "text": [
      "Creating initial attributes\n"
     ]
    }
   ],
   "source": [
    "dataloader._get_labels_and_features()"
   ]
  },
  {
   "cell_type": "code",
   "execution_count": null,
   "metadata": {},
   "outputs": [],
   "source": [
    "df = dataloader._get_event_tables('chb16')"
   ]
  },
  {
   "cell_type": "code",
   "execution_count": null,
   "metadata": {},
   "outputs": [],
   "source": [
    "list_to_process =dataloader._get_recording_events(df[0], 'chb16_10')"
   ]
  },
  {
   "cell_type": "code",
   "execution_count": null,
   "metadata": {},
   "outputs": [],
   "source": [
    "list_to_process"
   ]
  },
  {
   "cell_type": "code",
   "execution_count": null,
   "metadata": {},
   "outputs": [],
   "source": [
    "[x for x in list_to_process if not np.isnan(x)]"
   ]
  },
  {
   "cell_type": "code",
   "execution_count": null,
   "metadata": {},
   "outputs": [],
   "source": [
    "df.to_dict('index')"
   ]
  },
  {
   "cell_type": "code",
   "execution_count": null,
   "metadata": {},
   "outputs": [],
   "source": [
    "path_to_file = Path(\"raw_dataset\\chb16\\chb16-summary.txt\")\n",
    "open(path_to_file,'r').readlines()"
   ]
  },
  {
   "cell_type": "code",
   "execution_count": null,
   "metadata": {},
   "outputs": [],
   "source": [
    "string = 'chb10_27.edf'"
   ]
  },
  {
   "cell_type": "code",
   "execution_count": null,
   "metadata": {},
   "outputs": [],
   "source": [
    "string.split('.edf')[0]"
   ]
  },
  {
   "cell_type": "code",
   "execution_count": null,
   "metadata": {},
   "outputs": [],
   "source": [
    "ds_path = Path('preprocessed_data')\n",
    "target_path = Path('npy_data')"
   ]
  },
  {
   "cell_type": "code",
   "execution_count": null,
   "metadata": {},
   "outputs": [],
   "source": [
    "save_timeseries_array(ds_path,target_path)"
   ]
  },
  {
   "cell_type": "code",
   "execution_count": null,
   "metadata": {},
   "outputs": [],
   "source": [
    "def get_patient_annotations(path_to_file : Path, savedir : Path):\n",
    "    raw_txt = open(path_to_file,'r')\n",
    "    raw_txt_lines = raw_txt.readlines()\n",
    "    event_dict_start = dict()\n",
    "    event_dict_stop = dict()\n",
    "    p = '[\\d]+'\n",
    "    for n,line in enumerate(raw_txt_lines):\n",
    "        if \"File Name\" in line:\n",
    "            current_file_name = line.split(': ')[1][:-1]\n",
    "        if \"Number of Seizures in File\" in line:\n",
    "            num_of_seizures = int(line[-2:])\n",
    "            if  num_of_seizures > 0:\n",
    "                events_in_recording = raw_txt_lines[n+1:n+num_of_seizures*2+1]\n",
    "                for event in events_in_recording:\n",
    "                    if \"Start Time\" in event:\n",
    "                        sub_ev = event.split(': ')[1]\n",
    "                        time_value = int(re.search(p,sub_ev).group())\n",
    "                \n",
    "                        if not current_file_name in event_dict_start.keys():\n",
    "                            event_dict_start[current_file_name] = [time_value]\n",
    "                        else:\n",
    "                            event_dict_start[current_file_name].append(time_value)\n",
    "                    elif \"End Time\" in event:\n",
    "                        sub_ev = event.split(': ')[1]\n",
    "                        \n",
    "                        time_value = int(re.search(p,sub_ev).group())\n",
    "                        \n",
    "                        if not current_file_name in event_dict_stop.keys():\n",
    "                            event_dict_stop[current_file_name] = [time_value]\n",
    "                            \n",
    "                        else:\n",
    "                            event_dict_stop[current_file_name].append(time_value)\n",
    "    df = pd.DataFrame.from_dict(event_dict_start,orient='index')\n",
    "    col_list = []\n",
    "    for n in range(1,len(df.columns)+1):\n",
    "        col_list.append(f'Seizure {n}')\n",
    "    df_start = pd.DataFrame.from_dict(event_dict_start,orient='index',columns=col_list)\n",
    "    df_end = pd.DataFrame.from_dict(event_dict_stop,orient='index',columns=col_list)\n",
    "    patient_id = current_file_name.split('_')[0]\n",
    "    if not os.path.exists(savedir):\n",
    "        os.mkdir(savedir)\n",
    "    dst_dir_start = os.path.join(savedir,f\"{patient_id}_start.csv\")\n",
    "    dst_dir_stop = os.path.join(savedir,f\"{patient_id}_stop.csv\")\n",
    "    pd.DataFrame.to_csv(df_start,dst_dir_start,index_label=False) \n",
    "    pd.DataFrame.to_csv(df_end,dst_dir_stop,index_label=False) "
   ]
  },
  {
   "cell_type": "code",
   "execution_count": null,
   "metadata": {},
   "outputs": [],
   "source": [
    "def get_annotation_files(dataset_path):\n",
    "    patient_folders = os.listdir(dataset_path)\n",
    "    for folder in patient_folders:\n",
    "        patient_folder_path = os.path.join(dataset_path,folder)\n",
    "        if os.path.isdir(patient_folder_path):\n",
    "            patient_files = os.listdir(patient_folder_path)\n",
    "            for filename in patient_files:\n",
    "                if \"summary\" in filename:\n",
    "                    annotation_path = os.path.join(patient_folder_path,filename)\n",
    "                    get_patient_annotations(annotation_path,Path(\"event_tables\"))\n"
   ]
  },
  {
   "cell_type": "code",
   "execution_count": null,
   "metadata": {},
   "outputs": [],
   "source": [
    "annotation_files = get_annotation_files(Path(\"raw_dataset\"))\n"
   ]
  }
 ],
 "metadata": {
  "kernelspec": {
   "display_name": "Python 3.10.4 ('sano_eeg')",
   "language": "python",
   "name": "python3"
  },
  "language_info": {
   "codemirror_mode": {
    "name": "ipython",
    "version": 3
   },
   "file_extension": ".py",
   "mimetype": "text/x-python",
   "name": "python",
   "nbconvert_exporter": "python",
   "pygments_lexer": "ipython3",
   "version": "3.10.4"
  },
  "orig_nbformat": 4,
  "vscode": {
   "interpreter": {
    "hash": "5382ef638fa5c12c498aced3863f52a5a1fec44f4008cfb813246c6500772437"
   }
  }
 },
 "nbformat": 4,
 "nbformat_minor": 2
}
