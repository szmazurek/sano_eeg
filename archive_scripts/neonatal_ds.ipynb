{
 "cells": [
  {
   "cell_type": "code",
   "execution_count": null,
   "metadata": {},
   "outputs": [],
   "source": [
    "import mne\n",
    "import numpy as np\n",
    "import utils"
   ]
  },
  {
   "cell_type": "code",
   "execution_count": null,
   "metadata": {},
   "outputs": [],
   "source": [
    "\"\"\"LEGACY SCRIPT FOR WORKING WITH NEONATAL DATA\"\"\""
   ]
  },
  {
   "cell_type": "code",
   "execution_count": null,
   "metadata": {},
   "outputs": [],
   "source": [
    "##load data for patient\n",
    "patient_number = 4\n",
    "file = rf\"neonatal_data\\eeg{patient_number}.edf\"\n",
    "data_full = mne.io.read_raw_edf(file,preload = True,verbose=False)\n",
    "channels_original = data_full.ch_names\n",
    "## copy the data to apply filtering without including the ekg and respiratory channels\n",
    "data_eeg = data_full.copy()\n",
    "montage = mne.channels.read_custom_montage(r\"A:\\Program Files\\MATLAB\\R2020a\\eeglab2022.1\\my_locs\\neonatal_channel_loc_mne.loc\")\n",
    "new_channels = {}\n",
    "montage_channels = montage.ch_names\n",
    "for n in range (0,len(channels_original)-2):\n",
    "    new_channels[channels_original[n]] = montage_channels[n]\n",
    "## add electrode positions\n",
    "data_eeg.rename_channels(new_channels)\n",
    "data_eeg.set_montage(montage,on_missing = 'ignore')\n",
    "## remove respiraotry and ekg channels\n",
    "if patient_number == 1:\n",
    "    data_eeg.drop_channels(['ECG EKG-REF','Resp Effort-REF'])\n",
    "else:\n",
    "    data_eeg.drop_channels(['ECG EKG','Resp Effort'])"
   ]
  }
 ],
 "metadata": {
  "kernelspec": {
   "display_name": "Python 3",
   "language": "python",
   "name": "python3"
  },
  "language_info": {
   "codemirror_mode": {
    "name": "ipython",
    "version": 3
   },
   "file_extension": ".py",
   "mimetype": "text/x-python",
   "name": "python",
   "nbconvert_exporter": "python",
   "pygments_lexer": "ipython3",
   "version": "3.10.7 (main, Nov 24 2022, 19:45:47) [GCC 12.2.0]"
  },
  "orig_nbformat": 4,
  "vscode": {
   "interpreter": {
    "hash": "916dbcbb3f70747c44a77c7bcd40155683ae19c65e1c03b4aa3499c5328201f1"
   }
  }
 },
 "nbformat": 4,
 "nbformat_minor": 2
}
