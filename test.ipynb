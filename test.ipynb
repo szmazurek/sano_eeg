{
 "cells": [
  {
   "cell_type": "code",
   "execution_count": 1,
   "metadata": {},
   "outputs": [
    {
     "name": "stderr",
     "output_type": "stream",
     "text": [
      "a:\\Users\\Szymon Mazurek\\anaconda3\\envs\\sano_eeg\\lib\\site-packages\\tqdm\\auto.py:22: TqdmWarning: IProgress not found. Please update jupyter and ipywidgets. See https://ipywidgets.readthedocs.io/en/stable/user_install.html\n",
      "  from .autonotebook import tqdm as notebook_tqdm\n"
     ]
    }
   ],
   "source": [
    "import numpy as np\n",
    "from matplotlib import pyplot as plt\n",
    "import utils\n",
    "from scipy import signal\n",
    "import mne\n"
   ]
  },
  {
   "cell_type": "code",
   "execution_count": 2,
   "metadata": {},
   "outputs": [],
   "source": [
    "data_preprocessed = mne.io.read_raw_edf(r'A:\\Sano\\sano_eeg\\preprocessed_adult\\chb21\\chb21_19.edf', preload=False, verbose=False)\n",
    "#data_raw = utils.load_and_dump_channels(r'A:\\Sano\\adult_data\\chb21\\chb21_19.edf')"
   ]
  },
  {
   "cell_type": "code",
   "execution_count": 3,
   "metadata": {},
   "outputs": [],
   "source": [
    "start_ev = np.array([1288,2000])\n",
    "end_ev = np.array([1344,2100])\n",
    "input_arr = data_preprocessed.get_data(stop=10000)\n",
    "interictal_period = (\n",
    "            np.expand_dims(input_arr.transpose(), axis=2)\n",
    "            .swapaxes(0, 2)\n",
    "            .swapaxes(0, 1)\n",
    "        )  ##reshape for preprocessing"
   ]
  },
  {
   "cell_type": "code",
   "execution_count": 4,
   "metadata": {},
   "outputs": [
    {
     "name": "stdout",
     "output_type": "stream",
     "text": [
      "(18, 14336)\n",
      "(18, 1, 14336)\n",
      "(18, 25600)\n",
      "(18, 1, 25600)\n"
     ]
    }
   ],
   "source": [
    "interictal_features, interictal_event_labels, interictal_event_time_labels,seizure_features,seizure_event_labels = utils.extract_training_data_and_labels(data_preprocessed,start_ev,end_ev,overlap=0)"
   ]
  },
  {
   "cell_type": "code",
   "execution_count": 5,
   "metadata": {},
   "outputs": [
    {
     "data": {
      "text/plain": [
       "(15, 18, 1, 2560)"
      ]
     },
     "execution_count": 5,
     "metadata": {},
     "output_type": "execute_result"
    }
   ],
   "source": [
    "seizure_features.shape"
   ]
  },
  {
   "cell_type": "code",
   "execution_count": null,
   "metadata": {},
   "outputs": [],
   "source": [
    "%matplotlib qt"
   ]
  },
  {
   "cell_type": "code",
   "execution_count": null,
   "metadata": {},
   "outputs": [],
   "source": [
    "adult_data =r'A:\\Sano\\adult_data'\n",
    "peprocessed_data = r'A:\\Sano\\preprocessed_adult'\n",
    "subject_seizures = r'A:\\Sano\\adult_data\\RECORDS-WITH-SEIZURES'"
   ]
  },
  {
   "cell_type": "code",
   "execution_count": null,
   "metadata": {},
   "outputs": [],
   "source": [
    "utils.preprocess_dataset(subject_seizures,adult_data,peprocessed_data)"
   ]
  },
  {
   "cell_type": "code",
   "execution_count": null,
   "metadata": {},
   "outputs": [],
   "source": [
    "data_raw =utils.load_and_dump_channels(r\"A:\\Sano\\adult_data\\chb23\\chb23_09.edf\")\n",
    "utils.reorder_channels_chbmit(data_raw)\n",
    "raw_copy = utils.run_preprocessing(data_raw,18,apply_ica=False,apply_pca = True,freq_l=2)"
   ]
  }
 ],
 "metadata": {
  "kernelspec": {
   "display_name": "Python 3.10.4 ('sano_eeg')",
   "language": "python",
   "name": "python3"
  },
  "language_info": {
   "codemirror_mode": {
    "name": "ipython",
    "version": 3
   },
   "file_extension": ".py",
   "mimetype": "text/x-python",
   "name": "python",
   "nbconvert_exporter": "python",
   "pygments_lexer": "ipython3",
   "version": "3.10.4"
  },
  "orig_nbformat": 4,
  "vscode": {
   "interpreter": {
    "hash": "5382ef638fa5c12c498aced3863f52a5a1fec44f4008cfb813246c6500772437"
   }
  }
 },
 "nbformat": 4,
 "nbformat_minor": 2
}
