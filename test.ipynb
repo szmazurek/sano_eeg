{
 "cells": [
  {
   "cell_type": "code",
   "execution_count": 1,
   "metadata": {},
   "outputs": [
    {
     "name": "stderr",
     "output_type": "stream",
     "text": [
      "a:\\Users\\Szymon Mazurek\\anaconda3\\envs\\sano_eeg\\lib\\site-packages\\tqdm\\auto.py:22: TqdmWarning: IProgress not found. Please update jupyter and ipywidgets. See https://ipywidgets.readthedocs.io/en/stable/user_install.html\n",
      "  from .autonotebook import tqdm as notebook_tqdm\n"
     ]
    }
   ],
   "source": [
    "import numpy as np\n",
    "from pathlib import Path\n",
    "import utils\n",
    "import mne\n",
    "from scipy.stats import pearsonr\n",
    "import scipy\n",
    "from torch_geometric.utils import from_networkx\n",
    "from torch_geometric_temporal import StaticGraphTemporalSignal, DynamicGraphTemporalSignal\n",
    "import networkx as nx"
   ]
  },
  {
   "cell_type": "code",
   "execution_count": null,
   "metadata": {},
   "outputs": [],
   "source": [
    "\"\"\"\"ACHTUNG czas do ataku jest podawany źle dla pierwszej próbki\"\"\""
   ]
  },
  {
   "cell_type": "code",
   "execution_count": 2,
   "metadata": {},
   "outputs": [],
   "source": [
    "data_preprocessed = mne.io.read_raw_edf(Path('preprocessed_data/chb21/chb21_19.edf'), preload=False, verbose=False)\n",
    "#input_array = data_preprocessed.get_data()"
   ]
  },
  {
   "cell_type": "code",
   "execution_count": 3,
   "metadata": {},
   "outputs": [],
   "source": [
    "data = data_preprocessed.get_data()"
   ]
  },
  {
   "cell_type": "code",
   "execution_count": 4,
   "metadata": {},
   "outputs": [],
   "source": [
    "import os \n",
    "import pandas as pd\n",
    "def _load_csv_table_events(table_path):\n",
    "        event_dict = pd.read_csv(table_path).to_dict('index')\n",
    "        return event_dict\n",
    "def _get_event_tables(patient_name,event_tables_path):\n",
    "        event_table_list = os.listdir(event_tables_path)\n",
    "        patient_start_table, patient_stop_table = [os.path.join(event_tables_path,ev_table)\n",
    "        for ev_table in event_table_list if patient_name in ev_table]\n",
    "        start_events_dict = _load_csv_table_events(patient_start_table)\n",
    "        stop_events_dict = _load_csv_table_events(patient_stop_table)\n",
    "        return start_events_dict,stop_events_dict\n",
    "        \n",
    "def _get_recording_events(events_dict,recording):\n",
    "    recording_list = list(events_dict[recording+'.edf'].values())\n",
    "    recording_events = [int(x) for x in recording_list if not np.isnan(x)]\n",
    "    return recording_events"
   ]
  },
  {
   "cell_type": "code",
   "execution_count": 5,
   "metadata": {},
   "outputs": [],
   "source": [
    "event_tables = _get_event_tables(\"chb21\",r\"A:\\Sano\\sano_eeg\\event_tables\")\n",
    "start_event_tables = _get_recording_events(event_tables[0],\"chb21_19\") # get start events\n",
    "stop_event_tables = _get_recording_events(event_tables[1],\"chb21_19\") # get stop events"
   ]
  },
  {
   "cell_type": "code",
   "execution_count": 6,
   "metadata": {},
   "outputs": [],
   "source": [
    "def get_edges(features):\n",
    "\n",
    "    graph = nx.complete_graph(features.shape[1])\n",
    "    self_loops = [[node,node]for node in graph.nodes()]\n",
    "    graph.add_edges_from(self_loops)\n",
    "    edges = np.expand_dims(from_networkx(graph).edge_index.numpy(),axis=0)\n",
    "    return np.repeat(edges,features.shape[0],axis=0)\n"
   ]
  },
  {
   "cell_type": "code",
   "execution_count": 7,
   "metadata": {},
   "outputs": [],
   "source": [
    "def plv_connectivity(sensors,data):\n",
    "    \"\"\"\n",
    "    Parameters\n",
    "    ----------\n",
    "    sensors : INT\n",
    "        DESCRIPTION. No of sensors used for capturing EEG\n",
    "    data : Array of float \n",
    "        DESCRIPTION. EEG Data\n",
    "    \n",
    "    Returns\n",
    "    -------\n",
    "    connectivity_matrix : Matrix of float\n",
    "        DESCRIPTION. PLV connectivity matrix\n",
    "    connectivity_vector : Vector of flaot \n",
    "        DESCRIPTION. PLV connectivity vector\n",
    "    \"\"\"\n",
    "    print(\"PLV in process.....\")\n",
    "    \n",
    "    # Predefining connectivity matrix\n",
    "    connectivity_matrix = np.zeros([sensors,sensors],dtype=float)\n",
    "    \n",
    "    # Computing hilbert transform\n",
    "    data_points = data.shape[-1]\n",
    "    data_hilbert = np.imag(scipy.signal.hilbert(data))\n",
    "    phase = np.arctan(data_hilbert/data)\n",
    "    \n",
    "    # Computing connectivity matrix \n",
    "    for i in range(sensors):\n",
    "        for k in range(sensors):\n",
    "            connectivity_matrix[i,k] = np.abs(np.sum(np.exp(1j*(phase[i,:]-phase[k,:]))))/data_points\n",
    "            \n",
    "    # Computing connectivity vector\n",
    "    connectivity_vector = connectivity_matrix[np.triu_indices(connectivity_matrix.shape[0],k=1)] \n",
    "      \n",
    "    # returning connectivity matrix and vector\n",
    "    print(\"PLV done!\")\n",
    "    return connectivity_matrix"
   ]
  },
  {
   "cell_type": "code",
   "execution_count": 8,
   "metadata": {},
   "outputs": [],
   "source": [
    "features,labels,time_labels = utils.extract_training_data_and_labels(\n",
    "                    data,\n",
    "                    start_event_tables,\n",
    "                    stop_event_tables,\n",
    "                    fs = 256,\n",
    "                    seizure_lookback = 600,\n",
    "                    sample_timestep = 10,\n",
    "                    overlap = 0,\n",
    "                )"
   ]
  },
  {
   "cell_type": "code",
   "execution_count": 9,
   "metadata": {},
   "outputs": [
    {
     "name": "stdout",
     "output_type": "stream",
     "text": [
      "PLV in process.....\n",
      "PLV done!\n"
     ]
    }
   ],
   "source": [
    "edges = get_edges(features)\n",
    "plv_matrix = plv_connectivity(18,data)"
   ]
  },
  {
   "cell_type": "code",
   "execution_count": 10,
   "metadata": {},
   "outputs": [
    {
     "data": {
      "text/plain": [
       "(18, 18)"
      ]
     },
     "execution_count": 10,
     "metadata": {},
     "output_type": "execute_result"
    }
   ],
   "source": [
    "plv_matrix.shape"
   ]
  },
  {
   "cell_type": "code",
   "execution_count": 11,
   "metadata": {},
   "outputs": [
    {
     "data": {
      "text/plain": [
       "array([[1.        , 0.58581059, 0.44031512, 0.42379222, 0.40808499,\n",
       "        0.41570259, 0.47735016, 0.43298718, 0.41678586, 0.41927096,\n",
       "        0.41099734, 0.41239495, 0.42602389, 0.41544521, 0.4225672 ,\n",
       "        0.40844897, 0.40389874, 0.41830361],\n",
       "       [0.58581059, 1.        , 0.4424106 , 0.44995354, 0.40792273,\n",
       "        0.41639982, 0.43984717, 0.41664753, 0.41104817, 0.40755504,\n",
       "        0.41266214, 0.4075601 , 0.41650482, 0.40441666, 0.41081093,\n",
       "        0.41264982, 0.40415039, 0.4178557 ],\n",
       "       [0.44031512, 0.4424106 , 1.        , 0.42414354, 0.4076655 ,\n",
       "        0.41129719, 0.43511516, 0.49939943, 0.419038  , 0.40479827,\n",
       "        0.40787941, 0.40842618, 0.43311205, 0.4076504 , 0.4063573 ,\n",
       "        0.41155152, 0.40913303, 0.54441654],\n",
       "       [0.42379222, 0.44995354, 0.42414354, 1.        , 0.41116364,\n",
       "        0.4224622 , 0.45852558, 0.42157285, 0.42285916, 0.40674955,\n",
       "        0.40596555, 0.41777096, 0.40675056, 0.41081577, 0.40646316,\n",
       "        0.40958032, 0.40733923, 0.48988615],\n",
       "       [0.40808499, 0.40792273, 0.4076655 , 0.41116364, 1.        ,\n",
       "        0.47658458, 0.41743542, 0.40594792, 0.4622458 , 0.44898543,\n",
       "        0.40677079, 0.41233054, 0.40884736, 0.41044352, 0.44317759,\n",
       "        0.4097803 , 0.4349111 , 0.40935805],\n",
       "       [0.41570259, 0.41639982, 0.41129719, 0.4224622 , 0.47658458,\n",
       "        1.        , 0.45454663, 0.40820986, 0.43790313, 0.407087  ,\n",
       "        0.41185171, 0.4541888 , 0.40955911, 0.40827563, 0.4895145 ,\n",
       "        0.40911674, 0.41883422, 0.40970337],\n",
       "       [0.47735016, 0.43984717, 0.43511516, 0.45852558, 0.41743542,\n",
       "        0.45454663, 1.        , 0.41719408, 0.41872194, 0.40962454,\n",
       "        0.40987314, 0.44622628, 0.41380425, 0.40807192, 0.42374275,\n",
       "        0.42248131, 0.41189178, 0.42248478],\n",
       "       [0.43298718, 0.41664753, 0.49939943, 0.42157285, 0.40594792,\n",
       "        0.40820986, 0.41719408, 1.        , 0.4094729 , 0.40830862,\n",
       "        0.41056039, 0.41172484, 0.42913506, 0.41889148, 0.41337806,\n",
       "        0.40758708, 0.4126108 , 0.42854896],\n",
       "       [0.41678586, 0.41104817, 0.419038  , 0.42285916, 0.4622458 ,\n",
       "        0.43790313, 0.41872194, 0.4094729 , 1.        , 0.4055539 ,\n",
       "        0.40706767, 0.41264617, 0.44118679, 0.4117861 , 0.43021044,\n",
       "        0.41050263, 0.49993037, 0.42583527],\n",
       "       [0.41927096, 0.40755504, 0.40479827, 0.40674955, 0.44898543,\n",
       "        0.407087  , 0.40962454, 0.40830862, 0.4055539 , 1.        ,\n",
       "        0.45762527, 0.40855371, 0.40816928, 0.44106069, 0.41343568,\n",
       "        0.40436786, 0.42150332, 0.40841684],\n",
       "       [0.41099734, 0.41266214, 0.40787941, 0.40596555, 0.40677079,\n",
       "        0.41185171, 0.40987314, 0.41056039, 0.40706767, 0.45762527,\n",
       "        1.        , 0.4233956 , 0.41241351, 0.41448962, 0.43031032,\n",
       "        0.4434606 , 0.42887246, 0.4071522 ],\n",
       "       [0.41239495, 0.4075601 , 0.40842618, 0.41777096, 0.41233054,\n",
       "        0.4541888 , 0.44622628, 0.41172484, 0.41264617, 0.40855371,\n",
       "        0.4233956 , 1.        , 0.41836376, 0.41121193, 0.47766062,\n",
       "        0.44837509, 0.40987846, 0.4122175 ],\n",
       "       [0.42602389, 0.41650482, 0.43311205, 0.40675056, 0.40884736,\n",
       "        0.40955911, 0.41380425, 0.42913506, 0.44118679, 0.40816928,\n",
       "        0.41241351, 0.41836376, 1.        , 0.41925439, 0.40598917,\n",
       "        0.41095561, 0.4608143 , 0.41604173],\n",
       "       [0.41544521, 0.40441666, 0.4076504 , 0.41081577, 0.41044352,\n",
       "        0.40827563, 0.40807192, 0.41889148, 0.4117861 , 0.44106069,\n",
       "        0.41448962, 0.41121193, 0.41925439, 1.        , 0.42272477,\n",
       "        0.40587551, 0.44021398, 0.409342  ],\n",
       "       [0.4225672 , 0.41081093, 0.4063573 , 0.40646316, 0.44317759,\n",
       "        0.4895145 , 0.42374275, 0.41337806, 0.43021044, 0.41343568,\n",
       "        0.43031032, 0.47766062, 0.40598917, 0.42272477, 1.        ,\n",
       "        0.41141179, 0.46998701, 0.41633707],\n",
       "       [0.40844897, 0.41264982, 0.41155152, 0.40958032, 0.4097803 ,\n",
       "        0.40911674, 0.42248131, 0.40758708, 0.41050263, 0.40436786,\n",
       "        0.4434606 , 0.44837509, 0.41095561, 0.40587551, 0.41141179,\n",
       "        1.        , 0.41091612, 0.41744075],\n",
       "       [0.40389874, 0.40415039, 0.40913303, 0.40733923, 0.4349111 ,\n",
       "        0.41883422, 0.41189178, 0.4126108 , 0.49993037, 0.42150332,\n",
       "        0.42887246, 0.40987846, 0.4608143 , 0.44021398, 0.46998701,\n",
       "        0.41091612, 1.        , 0.43759809],\n",
       "       [0.41830361, 0.4178557 , 0.54441654, 0.48988615, 0.40935805,\n",
       "        0.40970337, 0.42248478, 0.42854896, 0.42583527, 0.40841684,\n",
       "        0.4071522 , 0.4122175 , 0.41604173, 0.409342  , 0.41633707,\n",
       "        0.41744075, 0.43759809, 1.        ]])"
      ]
     },
     "execution_count": 11,
     "metadata": {},
     "output_type": "execute_result"
    }
   ],
   "source": [
    "plv_matrix"
   ]
  },
  {
   "cell_type": "code",
   "execution_count": 10,
   "metadata": {},
   "outputs": [],
   "source": [
    "graph = nx.complete_graph(18)\n",
    "\n",
    "self_loops = [[node,node]for node in graph.nodes()]\n",
    "graph.add_edges_from(self_loops)\n",
    "garph_dict = {}\n",
    "\n",
    "for edge in graph.edges():\n",
    "    e_start,e_end = edge\n",
    "    garph_dict[edge] = {'plv':plv_matrix[e_start,e_end]}\n",
    "nx.set_edge_attributes(graph, garph_dict)\n",
    "final_graph = from_networkx(graph)"
   ]
  },
  {
   "cell_type": "code",
   "execution_count": 11,
   "metadata": {},
   "outputs": [],
   "source": [
    "edge_weights = np.expand_dims(final_graph.plv.numpy(),axis=0)\n",
    "edge_weights = np.repeat(edge_weights,repeats=features.shape[0],axis=0)\n",
    "edges = get_edges(features)\n"
   ]
  },
  {
   "cell_type": "code",
   "execution_count": 12,
   "metadata": {},
   "outputs": [],
   "source": [
    "labels = labels.astype(np.int32)\n",
    "time_ints = time_labels.astype(np.int32)"
   ]
  },
  {
   "cell_type": "code",
   "execution_count": 13,
   "metadata": {},
   "outputs": [],
   "source": [
    "data_loader = DynamicGraphTemporalSignal(edges,list(edge_weights),features,labels,time_labels = time_ints)"
   ]
  },
  {
   "cell_type": "code",
   "execution_count": 14,
   "metadata": {},
   "outputs": [
    {
     "name": "stdout",
     "output_type": "stream",
     "text": [
      "Data(x=[18, 1, 2560], edge_index=[2, 324], edge_attr=[324], y=[0], time_labels=[590])\n",
      "Data(x=[18, 1, 2560], edge_index=[2, 324], edge_attr=[324], y=[0], time_labels=[580])\n",
      "Data(x=[18, 1, 2560], edge_index=[2, 324], edge_attr=[324], y=[0], time_labels=[570])\n",
      "Data(x=[18, 1, 2560], edge_index=[2, 324], edge_attr=[324], y=[0], time_labels=[560])\n",
      "Data(x=[18, 1, 2560], edge_index=[2, 324], edge_attr=[324], y=[0], time_labels=[550])\n",
      "Data(x=[18, 1, 2560], edge_index=[2, 324], edge_attr=[324], y=[0], time_labels=[540])\n",
      "Data(x=[18, 1, 2560], edge_index=[2, 324], edge_attr=[324], y=[0], time_labels=[530])\n",
      "Data(x=[18, 1, 2560], edge_index=[2, 324], edge_attr=[324], y=[0], time_labels=[520])\n",
      "Data(x=[18, 1, 2560], edge_index=[2, 324], edge_attr=[324], y=[0], time_labels=[510])\n",
      "Data(x=[18, 1, 2560], edge_index=[2, 324], edge_attr=[324], y=[0], time_labels=[500])\n",
      "Data(x=[18, 1, 2560], edge_index=[2, 324], edge_attr=[324], y=[0], time_labels=[490])\n",
      "Data(x=[18, 1, 2560], edge_index=[2, 324], edge_attr=[324], y=[0], time_labels=[480])\n",
      "Data(x=[18, 1, 2560], edge_index=[2, 324], edge_attr=[324], y=[0], time_labels=[470])\n",
      "Data(x=[18, 1, 2560], edge_index=[2, 324], edge_attr=[324], y=[0], time_labels=[460])\n",
      "Data(x=[18, 1, 2560], edge_index=[2, 324], edge_attr=[324], y=[0], time_labels=[450])\n",
      "Data(x=[18, 1, 2560], edge_index=[2, 324], edge_attr=[324], y=[0], time_labels=[440])\n",
      "Data(x=[18, 1, 2560], edge_index=[2, 324], edge_attr=[324], y=[0], time_labels=[430])\n",
      "Data(x=[18, 1, 2560], edge_index=[2, 324], edge_attr=[324], y=[0], time_labels=[420])\n",
      "Data(x=[18, 1, 2560], edge_index=[2, 324], edge_attr=[324], y=[0], time_labels=[410])\n",
      "Data(x=[18, 1, 2560], edge_index=[2, 324], edge_attr=[324], y=[0], time_labels=[400])\n",
      "Data(x=[18, 1, 2560], edge_index=[2, 324], edge_attr=[324], y=[0], time_labels=[390])\n",
      "Data(x=[18, 1, 2560], edge_index=[2, 324], edge_attr=[324], y=[0], time_labels=[380])\n",
      "Data(x=[18, 1, 2560], edge_index=[2, 324], edge_attr=[324], y=[0], time_labels=[370])\n",
      "Data(x=[18, 1, 2560], edge_index=[2, 324], edge_attr=[324], y=[0], time_labels=[360])\n",
      "Data(x=[18, 1, 2560], edge_index=[2, 324], edge_attr=[324], y=[0], time_labels=[350])\n",
      "Data(x=[18, 1, 2560], edge_index=[2, 324], edge_attr=[324], y=[0], time_labels=[340])\n",
      "Data(x=[18, 1, 2560], edge_index=[2, 324], edge_attr=[324], y=[0], time_labels=[330])\n",
      "Data(x=[18, 1, 2560], edge_index=[2, 324], edge_attr=[324], y=[0], time_labels=[320])\n",
      "Data(x=[18, 1, 2560], edge_index=[2, 324], edge_attr=[324], y=[0], time_labels=[310])\n",
      "Data(x=[18, 1, 2560], edge_index=[2, 324], edge_attr=[324], y=[0], time_labels=[300])\n",
      "Data(x=[18, 1, 2560], edge_index=[2, 324], edge_attr=[324], y=[0], time_labels=[290])\n",
      "Data(x=[18, 1, 2560], edge_index=[2, 324], edge_attr=[324], y=[0], time_labels=[280])\n",
      "Data(x=[18, 1, 2560], edge_index=[2, 324], edge_attr=[324], y=[0], time_labels=[270])\n",
      "Data(x=[18, 1, 2560], edge_index=[2, 324], edge_attr=[324], y=[0], time_labels=[260])\n",
      "Data(x=[18, 1, 2560], edge_index=[2, 324], edge_attr=[324], y=[0], time_labels=[250])\n",
      "Data(x=[18, 1, 2560], edge_index=[2, 324], edge_attr=[324], y=[0], time_labels=[240])\n",
      "Data(x=[18, 1, 2560], edge_index=[2, 324], edge_attr=[324], y=[0], time_labels=[230])\n",
      "Data(x=[18, 1, 2560], edge_index=[2, 324], edge_attr=[324], y=[0], time_labels=[220])\n",
      "Data(x=[18, 1, 2560], edge_index=[2, 324], edge_attr=[324], y=[0], time_labels=[210])\n",
      "Data(x=[18, 1, 2560], edge_index=[2, 324], edge_attr=[324], y=[0], time_labels=[200])\n",
      "Data(x=[18, 1, 2560], edge_index=[2, 324], edge_attr=[324], y=[0], time_labels=[190])\n",
      "Data(x=[18, 1, 2560], edge_index=[2, 324], edge_attr=[324], y=[0], time_labels=[180])\n",
      "Data(x=[18, 1, 2560], edge_index=[2, 324], edge_attr=[324], y=[0], time_labels=[170])\n",
      "Data(x=[18, 1, 2560], edge_index=[2, 324], edge_attr=[324], y=[0], time_labels=[160])\n",
      "Data(x=[18, 1, 2560], edge_index=[2, 324], edge_attr=[324], y=[0], time_labels=[150])\n",
      "Data(x=[18, 1, 2560], edge_index=[2, 324], edge_attr=[324], y=[0], time_labels=[140])\n",
      "Data(x=[18, 1, 2560], edge_index=[2, 324], edge_attr=[324], y=[0], time_labels=[130])\n",
      "Data(x=[18, 1, 2560], edge_index=[2, 324], edge_attr=[324], y=[0], time_labels=[120])\n",
      "Data(x=[18, 1, 2560], edge_index=[2, 324], edge_attr=[324], y=[0], time_labels=[110])\n",
      "Data(x=[18, 1, 2560], edge_index=[2, 324], edge_attr=[324], y=[0], time_labels=[100])\n",
      "Data(x=[18, 1, 2560], edge_index=[2, 324], edge_attr=[324], y=[0], time_labels=[90])\n",
      "Data(x=[18, 1, 2560], edge_index=[2, 324], edge_attr=[324], y=[0], time_labels=[80])\n",
      "Data(x=[18, 1, 2560], edge_index=[2, 324], edge_attr=[324], y=[0], time_labels=[70])\n",
      "Data(x=[18, 1, 2560], edge_index=[2, 324], edge_attr=[324], y=[0], time_labels=[60])\n",
      "Data(x=[18, 1, 2560], edge_index=[2, 324], edge_attr=[324], y=[0], time_labels=[50])\n",
      "Data(x=[18, 1, 2560], edge_index=[2, 324], edge_attr=[324], y=[0], time_labels=[40])\n",
      "Data(x=[18, 1, 2560], edge_index=[2, 324], edge_attr=[324], y=[0], time_labels=[30])\n",
      "Data(x=[18, 1, 2560], edge_index=[2, 324], edge_attr=[324], y=[0], time_labels=[20])\n",
      "Data(x=[18, 1, 2560], edge_index=[2, 324], edge_attr=[324], y=[0], time_labels=[10])\n",
      "Data(x=[18, 1, 2560], edge_index=[2, 324], edge_attr=[324], y=[0], time_labels=[0])\n",
      "Data(x=[18, 1, 2560], edge_index=[2, 324], edge_attr=[324], y=[1], time_labels=[0])\n",
      "Data(x=[18, 1, 2560], edge_index=[2, 324], edge_attr=[324], y=[1], time_labels=[0])\n",
      "Data(x=[18, 1, 2560], edge_index=[2, 324], edge_attr=[324], y=[1], time_labels=[0])\n",
      "Data(x=[18, 1, 2560], edge_index=[2, 324], edge_attr=[324], y=[1], time_labels=[0])\n",
      "Data(x=[18, 1, 2560], edge_index=[2, 324], edge_attr=[324], y=[1], time_labels=[0])\n"
     ]
    }
   ],
   "source": [
    "for snapshot in data_loader:\n",
    "    print(snapshot)"
   ]
  },
  {
   "cell_type": "code",
   "execution_count": null,
   "metadata": {},
   "outputs": [],
   "source": [
    "def calculate_pearson_correlation(eeg_array):\n",
    "    for n,channel in enumerate(eeg_array):\n",
    "        for p,channel2 in enumerate(eeg_array):\n",
    "            print(f'Correlation of {n} and {p} is {pearsonr(channel,channel2)}')\n"
   ]
  },
  {
   "cell_type": "code",
   "execution_count": null,
   "metadata": {},
   "outputs": [],
   "source": [
    "calculate_pearson_correlation(data)"
   ]
  },
  {
   "cell_type": "code",
   "execution_count": null,
   "metadata": {},
   "outputs": [],
   "source": [
    "plv_matrix, plv_vector = plv_connectivity(18,data)"
   ]
  },
  {
   "cell_type": "code",
   "execution_count": null,
   "metadata": {},
   "outputs": [],
   "source": [
    "plv_vector.shape"
   ]
  },
  {
   "cell_type": "code",
   "execution_count": null,
   "metadata": {},
   "outputs": [],
   "source": [
    "phase1 = np.angle(np.fft.fft(sig1))\n",
    "phase2 = np.angle(np.fft.fft(sig2))"
   ]
  },
  {
   "cell_type": "code",
   "execution_count": null,
   "metadata": {},
   "outputs": [],
   "source": [
    "phase_synchrony = 1-np.sin(np.abs(phase1-phase2)/2)"
   ]
  },
  {
   "cell_type": "code",
   "execution_count": null,
   "metadata": {},
   "outputs": [],
   "source": [
    "def phase_locking_value(theta1, theta2):\n",
    "    phase1 = np.angle(np.fft.fft(theta1))\n",
    "    phase2 = np.angle(np.fft.fft(theta2))\n",
    "    phase_synchrony = 1-np.sin(np.abs(phase1-phase2)/2)\n",
    "    complex_phase_diff = np.exp(np.complex(0,1)*(phase_synchrony))\n",
    "    plv = np.abs(np.sum(complex_phase_diff))/len(theta1)\n",
    "    return plv"
   ]
  },
  {
   "cell_type": "code",
   "execution_count": null,
   "metadata": {},
   "outputs": [],
   "source": [
    "def calculate_plv_correlation(eeg_array):\n",
    "    for n,channel in enumerate(eeg_array):\n",
    "        for p,channel2 in enumerate(eeg_array):\n",
    "            print(f'Correlation of {n} and {p} is {phase_locking_value(channel,channel2)}')"
   ]
  },
  {
   "cell_type": "code",
   "execution_count": null,
   "metadata": {},
   "outputs": [],
   "source": [
    "calculate_plv_correlation(data)"
   ]
  },
  {
   "cell_type": "code",
   "execution_count": null,
   "metadata": {},
   "outputs": [],
   "source": [
    "data_preprocessed._data.shape"
   ]
  },
  {
   "cell_type": "code",
   "execution_count": null,
   "metadata": {},
   "outputs": [],
   "source": [
    "start_ev = np.array([1288,2000])\n",
    "end_ev = np.array([1344,2100])\n"
   ]
  },
  {
   "cell_type": "code",
   "execution_count": null,
   "metadata": {},
   "outputs": [],
   "source": [
    "\n",
    "features,labels,time_labels = utils.extract_training_data_and_labels(input_array,start_ev,end_ev,overlap=0)"
   ]
  },
  {
   "cell_type": "code",
   "execution_count": null,
   "metadata": {},
   "outputs": [],
   "source": [
    "list_feats = features.tolist()"
   ]
  },
  {
   "cell_type": "code",
   "execution_count": null,
   "metadata": {},
   "outputs": [],
   "source": [
    "features.shape"
   ]
  },
  {
   "cell_type": "code",
   "execution_count": null,
   "metadata": {},
   "outputs": [],
   "source": [
    "np.array(list_feats).shape"
   ]
  },
  {
   "cell_type": "code",
   "execution_count": null,
   "metadata": {},
   "outputs": [],
   "source": [
    "adult_data =Path('raw_dataset')\n",
    "peprocessed_data = Path('preprocessed_data')\n",
    "subject_seizures = Path('raw_dataset/RECORDS-WITH-SEIZURES')"
   ]
  },
  {
   "cell_type": "code",
   "execution_count": null,
   "metadata": {},
   "outputs": [],
   "source": [
    "utils.preprocess_dataset(subject_seizures,adult_data,peprocessed_data)"
   ]
  },
  {
   "cell_type": "code",
   "execution_count": null,
   "metadata": {},
   "outputs": [],
   "source": [
    "data_raw =utils.load_and_dump_channels(Path('raw_dataset/chb01/chb01_03.edf'))\n",
    "utils.reorder_channels_chbmit(data_raw)\n",
    "raw_copy = utils.run_preprocessing(data_raw,18,apply_ica=False,apply_pca = True,freq_l=2)"
   ]
  }
 ],
 "metadata": {
  "kernelspec": {
   "display_name": "Python 3.10.4 ('sano_eeg')",
   "language": "python",
   "name": "python3"
  },
  "language_info": {
   "codemirror_mode": {
    "name": "ipython",
    "version": 3
   },
   "file_extension": ".py",
   "mimetype": "text/x-python",
   "name": "python",
   "nbconvert_exporter": "python",
   "pygments_lexer": "ipython3",
   "version": "3.10.4"
  },
  "orig_nbformat": 4,
  "vscode": {
   "interpreter": {
    "hash": "5382ef638fa5c12c498aced3863f52a5a1fec44f4008cfb813246c6500772437"
   }
  }
 },
 "nbformat": 4,
 "nbformat_minor": 2
}
