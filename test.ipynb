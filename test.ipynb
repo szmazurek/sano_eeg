{
 "cells": [
  {
   "cell_type": "code",
   "execution_count": 11,
   "metadata": {},
   "outputs": [],
   "source": [
    "import mne\n",
    "import numpy as np\n",
    "import utils\n",
    "from sklearn.decomposition import PCA\n",
    "from mne_icalabel import label_components\n",
    "from matplotlib import pyplot as plt\n",
    "from matplotlib.widgets import Slider\n",
    "from pyprep.prep_pipeline import PrepPipeline\n",
    "from scipy import signal\n",
    "from mne.preprocessing import ICA\n",
    "import re\n",
    "import os"
   ]
  },
  {
   "cell_type": "code",
   "execution_count": 7,
   "metadata": {},
   "outputs": [
    {
     "name": "stderr",
     "output_type": "stream",
     "text": [
      "C:\\Users\\Szymon Mazurek\\AppData\\Local\\Temp\\ipykernel_22156\\1842315277.py:2: RuntimeWarning: Channel names are not unique, found duplicates for: {'T8-P8', '-'}. Applying running numbers for duplicates.\n",
      "  data_raw = mne.io.read_raw_edf(filepath,preload = False,verbose=False)\n",
      "C:\\Users\\Szymon Mazurek\\AppData\\Local\\Temp\\ipykernel_22156\\1842315277.py:2: RuntimeWarning: Scaling factor is not defined in following channels:\n",
      "--0, --1, --2, --3, --4\n",
      "  data_raw = mne.io.read_raw_edf(filepath,preload = False,verbose=False)\n"
     ]
    },
    {
     "name": "stdout",
     "output_type": "stream",
     "text": [
      "Removing channel --0\n",
      "Removing channel --1\n",
      "Removing channel --2\n",
      "Removing channel --3\n",
      "Removing channel --4\n",
      "Removing channel T8-P8-1\n"
     ]
    }
   ],
   "source": [
    "data_raw =utils.load_and_dump_channels(r\"A:\\Sano\\adult_data\\chb16\\chb16_17.edf\")\n",
    "utils.reorder_channels(data_raw)\n",
    "ica, ic_labels, raw_copy = utils.run_preprocessing(data_raw,18)"
   ]
  },
  {
   "cell_type": "code",
   "execution_count": null,
   "metadata": {},
   "outputs": [],
   "source": [
    "def run_prep(raw,line_freq,ransac = False, channel_wise = False):\n",
    "    sfreq = raw.info['sfreq']\n",
    "    prep_params = {\n",
    "        \"ref_chs\": \"eeg\",\n",
    "        \"reref_chs\": \"eeg\",\n",
    "        \"line_freqs\": np.arange(line_freq, sfreq / 2, line_freq),\n",
    "    }\n",
    "    raw.load_data()\n",
    "    montage = raw.get_montage()\n",
    "    prep = PrepPipeline(raw, prep_params,montage,ransac=ransac,channel_wise=channel_wise)\n",
    "    prep_output = prep.fit()\n",
    "    return prep"
   ]
  },
  {
   "cell_type": "code",
   "execution_count": null,
   "metadata": {},
   "outputs": [],
   "source": [
    "signal_for_pca = raw_copy.copy()"
   ]
  },
  {
   "cell_type": "code",
   "execution_count": null,
   "metadata": {},
   "outputs": [],
   "source": [
    "dat_for_pca = signal_for_pca._data"
   ]
  },
  {
   "cell_type": "code",
   "execution_count": null,
   "metadata": {},
   "outputs": [],
   "source": [
    "pca = PCA(18)\n",
    "pca.fit(dat_for_pca)"
   ]
  },
  {
   "cell_type": "code",
   "execution_count": null,
   "metadata": {},
   "outputs": [],
   "source": [
    "pca = PCA(0.95)\n",
    "transformed_signal = pca.fit_transform(dat_for_pca)"
   ]
  },
  {
   "cell_type": "code",
   "execution_count": null,
   "metadata": {},
   "outputs": [],
   "source": [
    "signal_for_pca._data = transformed_signal.T"
   ]
  },
  {
   "cell_type": "code",
   "execution_count": null,
   "metadata": {},
   "outputs": [],
   "source": [
    "var = pca.explained_variance_ratio_"
   ]
  },
  {
   "cell_type": "code",
   "execution_count": null,
   "metadata": {},
   "outputs": [],
   "source": [
    "components = pca.components_"
   ]
  },
  {
   "cell_type": "code",
   "execution_count": null,
   "metadata": {},
   "outputs": [],
   "source": [
    "component = components[0]\n",
    "sampling_f = 256\n",
    "Plot, Axis = plt.subplots()\n",
    "secs_per_frame = 5\n",
    "slider_res = sampling_f*secs_per_frame\n",
    "# Adjust the bottom size according to the\n",
    "# requirement of the user\n",
    "plt.subplots_adjust(bottom=0.25)\n",
    "\n",
    "slider_color = 'White'\n",
    "plt.plot(component)\n",
    "Axis.set_xticks(np.arange(0,component.shape[0]/256))\n",
    "# Set the axis and slider position in the plot\n",
    "axis_position = plt.axes([0.2, 0.1, 0.65, 0.03],\n",
    "                         facecolor = slider_color)\n",
    "slider_position = Slider(axis_position,\n",
    "                         'Pos', 0, component.shape[0], valinit=0)\n",
    "#plt.plot(component)\n",
    "# update() function to change the graph when the\n",
    "# slider is in use\n",
    "comp_y_max = max(component)\n",
    "comp_y_min = min(component)\n",
    "\n",
    "def update(val):\n",
    "    pos = slider_position.val\n",
    "    Axis.axis([pos, pos+slider_res, comp_y_min, comp_y_max])\n",
    "    Plot.canvas.draw_idle()\n",
    " \n",
    "# update function called using on_changed() function\n",
    "slider_position.on_changed(update)\n",
    "plt.show()"
   ]
  },
  {
   "cell_type": "code",
   "execution_count": null,
   "metadata": {},
   "outputs": [],
   "source": [
    "%matplotlib inline"
   ]
  },
  {
   "cell_type": "code",
   "execution_count": null,
   "metadata": {},
   "outputs": [],
   "source": [
    "fig, axes = plt.subplots(components.shape[0],figsize=(20,40))\n",
    "sampling_f = 256\n",
    "mins_to_plot = 2\n",
    "for n in range(components.shape[0]):\n",
    "    axes[n].set_title(f\"Copmonent {n+1}, explained variance: {round(var[n]*100,3)}%\")\n",
    "    axes[n].plot(components[n][:mins_to_plot*sampling_f])\n",
    "    #axes[n].set_xticks(np.arange(0,len(components[n]),sampling_f))\n",
    "fig.tight_layout(pad=1.0)\n",
    "plt.show()"
   ]
  },
  {
   "cell_type": "code",
   "execution_count": null,
   "metadata": {},
   "outputs": [],
   "source": [
    "fig, axes = plt.subplots(components.shape[0],figsize=(20,40))\n",
    "sampling_f = 256\n",
    "\n",
    "for n in range(components.shape[0]):\n",
    "\n",
    "    freqs, psd = signal.welch(components[n],fs = sampling_f)\n",
    "    axes[n].set_title(f\"Copmonent {n+1}, PSD\")\n",
    "    axes[n].set_xlim(right=45)\n",
    "    axes[n].plot(freqs,psd)\n",
    "\n",
    "fig.tight_layout(pad=1.0)\n",
    "plt.show()"
   ]
  },
  {
   "cell_type": "code",
   "execution_count": null,
   "metadata": {},
   "outputs": [],
   "source": [
    "plt.bar(x= range(1,var.shape[0]+1),height=var*100)\n"
   ]
  },
  {
   "cell_type": "code",
   "execution_count": null,
   "metadata": {},
   "outputs": [],
   "source": [
    "for n in range(var.shape[0]):\n",
    "    if sum(var[:n] )>= 0.9:\n",
    "        n_components = n\n",
    "        break"
   ]
  },
  {
   "cell_type": "code",
   "execution_count": null,
   "metadata": {},
   "outputs": [],
   "source": [
    "new_data = pca.transform(raw_data)"
   ]
  }
 ],
 "metadata": {
  "kernelspec": {
   "display_name": "Python 3.10.4 ('sano_eeg')",
   "language": "python",
   "name": "python3"
  },
  "language_info": {
   "codemirror_mode": {
    "name": "ipython",
    "version": 3
   },
   "file_extension": ".py",
   "mimetype": "text/x-python",
   "name": "python",
   "nbconvert_exporter": "python",
   "pygments_lexer": "ipython3",
   "version": "3.10.4"
  },
  "orig_nbformat": 4,
  "vscode": {
   "interpreter": {
    "hash": "5382ef638fa5c12c498aced3863f52a5a1fec44f4008cfb813246c6500772437"
   }
  }
 },
 "nbformat": 4,
 "nbformat_minor": 2
}
