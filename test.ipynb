{
 "cells": [
  {
   "cell_type": "code",
   "execution_count": null,
   "metadata": {},
   "outputs": [],
   "source": [
    "import numpy as np\n",
    "from pathlib import Path\n",
    "import utils\n",
    "import mne\n"
   ]
  },
  {
   "cell_type": "code",
   "execution_count": null,
   "metadata": {},
   "outputs": [],
   "source": [
    "data_preprocessed = mne.io.read_raw_edf(Path('preprocessed_data/chb21/chb21_19.edf'), preload=False, verbose=False)\n"
   ]
  },
  {
   "cell_type": "code",
   "execution_count": null,
   "metadata": {},
   "outputs": [],
   "source": [
    "start_ev = np.array([1288,2000])\n",
    "end_ev = np.array([1344,2100])\n",
    "input_arr = data_preprocessed.get_data(stop=10000)\n",
    "interictal_period = (\n",
    "            np.expand_dims(input_arr.transpose(), axis=2)\n",
    "            .swapaxes(0, 2)\n",
    "            .swapaxes(0, 1)\n",
    "        ) "
   ]
  },
  {
   "cell_type": "code",
   "execution_count": null,
   "metadata": {},
   "outputs": [],
   "source": [
    "interictal_features, interictal_event_labels, interictal_event_time_labels,seizure_features,seizure_event_labels = utils.extract_training_data_and_labels(data_preprocessed,start_ev,end_ev,overlap=0)"
   ]
  },
  {
   "cell_type": "code",
   "execution_count": null,
   "metadata": {},
   "outputs": [],
   "source": [
    "seizure_features.shape"
   ]
  },
  {
   "cell_type": "code",
   "execution_count": null,
   "metadata": {},
   "outputs": [],
   "source": [
    "%matplotlib qt"
   ]
  },
  {
   "cell_type": "code",
   "execution_count": null,
   "metadata": {},
   "outputs": [],
   "source": [
    "adult_data =Path('raw_dataset')\n",
    "peprocessed_data = Path('preprocessed_data')\n",
    "subject_seizures = Path('raw_dataset/RECORDS-WITH-SEIZURES')"
   ]
  },
  {
   "cell_type": "code",
   "execution_count": null,
   "metadata": {},
   "outputs": [],
   "source": [
    "utils.preprocess_dataset(subject_seizures,adult_data,peprocessed_data)"
   ]
  },
  {
   "cell_type": "code",
   "execution_count": null,
   "metadata": {},
   "outputs": [],
   "source": [
    "data_raw =utils.load_and_dump_channels(Path('raw_dataset/chb01/chb01_03.edf'))\n",
    "utils.reorder_channels_chbmit(data_raw)\n",
    "raw_copy = utils.run_preprocessing(data_raw,18,apply_ica=False,apply_pca = True,freq_l=2)"
   ]
  }
 ],
 "metadata": {
  "kernelspec": {
   "display_name": "Python 3.10.4 (conda)",
   "language": "python",
   "name": "python3"
  },
  "language_info": {
   "codemirror_mode": {
    "name": "ipython",
    "version": 3
   },
   "file_extension": ".py",
   "mimetype": "text/x-python",
   "name": "python",
   "nbconvert_exporter": "python",
   "pygments_lexer": "ipython3",
   "version": "3.10.4"
  },
  "orig_nbformat": 4,
  "vscode": {
   "interpreter": {
    "hash": "b38fb313504621caa37a8960d00336ba6b0eef0bd7f4f0cb2051015c538bcabb"
   }
  }
 },
 "nbformat": 4,
 "nbformat_minor": 2
}
