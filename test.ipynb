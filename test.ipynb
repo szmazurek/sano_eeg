{
 "cells": [
  {
   "cell_type": "code",
   "execution_count": 2,
   "metadata": {},
   "outputs": [
    {
     "name": "stderr",
     "output_type": "stream",
     "text": [
      "a:\\Users\\Szymon Mazurek\\anaconda3\\envs\\sano_eeg\\lib\\site-packages\\tqdm\\auto.py:22: TqdmWarning: IProgress not found. Please update jupyter and ipywidgets. See https://ipywidgets.readthedocs.io/en/stable/user_install.html\n",
      "  from .autonotebook import tqdm as notebook_tqdm\n"
     ]
    }
   ],
   "source": [
    "import numpy as np\n",
    "from pathlib import Path\n",
    "import utils\n",
    "import mne\n",
    "from scipy.stats import pearsonr\n",
    "import scipy\n",
    "from torch_geometric.utils import from_networkx\n",
    "from torch_geometric_temporal import StaticGraphTemporalSignal, DynamicGraphTemporalSignal\n",
    "import networkx as nx"
   ]
  },
  {
   "cell_type": "code",
   "execution_count": 3,
   "metadata": {},
   "outputs": [
    {
     "data": {
      "text/plain": [
       "'\"ACHTUNG czas do ataku jest podawany źle dla pierwszej próbki'"
      ]
     },
     "execution_count": 3,
     "metadata": {},
     "output_type": "execute_result"
    }
   ],
   "source": [
    "\"\"\"\"ACHTUNG czas do ataku jest podawany źle dla pierwszej próbki\"\"\""
   ]
  },
  {
   "cell_type": "code",
   "execution_count": 4,
   "metadata": {},
   "outputs": [],
   "source": [
    "data_preprocessed = mne.io.read_raw_edf(Path('preprocessed_data/chb21/chb21_19.edf'), preload=False, verbose=False)\n",
    "#input_array = data_preprocessed.get_data()"
   ]
  },
  {
   "cell_type": "code",
   "execution_count": 5,
   "metadata": {},
   "outputs": [],
   "source": [
    "data = data_preprocessed.get_data()"
   ]
  },
  {
   "cell_type": "code",
   "execution_count": 6,
   "metadata": {},
   "outputs": [],
   "source": [
    "import os \n",
    "import pandas as pd\n",
    "def _load_csv_table_events(table_path):\n",
    "        event_dict = pd.read_csv(table_path).to_dict('index')\n",
    "        return event_dict\n",
    "def _get_event_tables(patient_name,event_tables_path):\n",
    "        event_table_list = os.listdir(event_tables_path)\n",
    "        patient_start_table, patient_stop_table = [os.path.join(event_tables_path,ev_table)\n",
    "        for ev_table in event_table_list if patient_name in ev_table]\n",
    "        start_events_dict = _load_csv_table_events(patient_start_table)\n",
    "        stop_events_dict = _load_csv_table_events(patient_stop_table)\n",
    "        return start_events_dict,stop_events_dict\n",
    "        \n",
    "def _get_recording_events(events_dict,recording):\n",
    "    recording_list = list(events_dict[recording+'.edf'].values())\n",
    "    recording_events = [int(x) for x in recording_list if not np.isnan(x)]\n",
    "    return recording_events"
   ]
  },
  {
   "cell_type": "code",
   "execution_count": 7,
   "metadata": {},
   "outputs": [],
   "source": [
    "event_tables = _get_event_tables(\"chb21\",r\"A:\\Sano\\sano_eeg\\event_tables\")\n",
    "start_event_tables = _get_recording_events(event_tables[0],\"chb21_19\") # get start events\n",
    "stop_event_tables = _get_recording_events(event_tables[1],\"chb21_19\") # get stop events"
   ]
  },
  {
   "cell_type": "code",
   "execution_count": 8,
   "metadata": {},
   "outputs": [],
   "source": [
    "def get_edges(features):\n",
    "\n",
    "    graph = nx.complete_graph(features.shape[1])\n",
    "    self_loops = [[node,node]for node in graph.nodes()]\n",
    "    graph.add_edges_from(self_loops)\n",
    "    edges = np.expand_dims(from_networkx(graph).edge_index.numpy(),axis=0)\n",
    "    return np.repeat(edges,features.shape[0],axis=0)\n"
   ]
  },
  {
   "cell_type": "code",
   "execution_count": 9,
   "metadata": {},
   "outputs": [],
   "source": [
    "def plv_connectivity(sensors,data):\n",
    "    \"\"\"\n",
    "    Parameters\n",
    "    ----------\n",
    "    sensors : INT\n",
    "        DESCRIPTION. No of sensors used for capturing EEG\n",
    "    data : Array of float \n",
    "        DESCRIPTION. EEG Data\n",
    "    \n",
    "    Returns\n",
    "    -------\n",
    "    connectivity_matrix : Matrix of float\n",
    "        DESCRIPTION. PLV connectivity matrix\n",
    "    connectivity_vector : Vector of flaot \n",
    "        DESCRIPTION. PLV connectivity vector\n",
    "    \"\"\"\n",
    "    print(\"PLV in process.....\")\n",
    "    \n",
    "    # Predefining connectivity matrix\n",
    "    connectivity_matrix = np.zeros([sensors,sensors],dtype=float)\n",
    "    \n",
    "    # Computing hilbert transform\n",
    "    data_points = data.shape[-1]\n",
    "    data_hilbert = np.imag(scipy.signal.hilbert(data))\n",
    "    phase = np.arctan(data_hilbert/data)\n",
    "    \n",
    "    # Computing connectivity matrix \n",
    "    for i in range(sensors):\n",
    "        for k in range(sensors):\n",
    "            connectivity_matrix[i,k] = np.abs(np.sum(np.exp(1j*(phase[i,:]-phase[k,:]))))/data_points\n",
    "            \n",
    "    # Computing connectivity vector\n",
    "    connectivity_vector = connectivity_matrix[np.triu_indices(connectivity_matrix.shape[0],k=1)] \n",
    "      \n",
    "    # returning connectivity matrix and vector\n",
    "    print(\"PLV done!\")\n",
    "    return connectivity_matrix"
   ]
  },
  {
   "cell_type": "code",
   "execution_count": 10,
   "metadata": {},
   "outputs": [],
   "source": [
    "features,labels,time_labels = utils.extract_training_data_and_labels(\n",
    "                    data,\n",
    "                    start_event_tables,\n",
    "                    stop_event_tables,\n",
    "                    fs = 256,\n",
    "                    seizure_lookback = 600,\n",
    "                    sample_timestep = 10,\n",
    "                    overlap = 0,\n",
    "                )"
   ]
  },
  {
   "cell_type": "code",
   "execution_count": 11,
   "metadata": {},
   "outputs": [
    {
     "name": "stdout",
     "output_type": "stream",
     "text": [
      "PLV in process.....\n",
      "PLV done!\n"
     ]
    }
   ],
   "source": [
    "edges = get_edges(features)\n",
    "plv_matrix = plv_connectivity(18,data)"
   ]
  },
  {
   "cell_type": "code",
   "execution_count": 12,
   "metadata": {},
   "outputs": [],
   "source": [
    "graph = nx.complete_graph(18)\n",
    "\n",
    "self_loops = [[node,node]for node in graph.nodes()]\n",
    "graph.add_edges_from(self_loops)\n",
    "garph_dict = {}\n",
    "\n",
    "for edge in graph.edges():\n",
    "    e_start,e_end = edge\n",
    "    garph_dict[edge] = {'plv':plv_matrix[e_start,e_end]}\n",
    "nx.set_edge_attributes(graph, garph_dict)\n",
    "final_graph = from_networkx(graph)"
   ]
  },
  {
   "cell_type": "code",
   "execution_count": 13,
   "metadata": {},
   "outputs": [],
   "source": [
    "edge_weights = np.expand_dims(final_graph.plv.numpy(),axis=0)\n",
    "edge_weights = np.repeat(edge_weights,repeats=features.shape[0],axis=0)\n",
    "edges = get_edges(features)\n"
   ]
  },
  {
   "cell_type": "code",
   "execution_count": 14,
   "metadata": {},
   "outputs": [],
   "source": [
    "labels = labels.astype(np.int32)\n",
    "time_ints = time_labels.astype(np.int32)"
   ]
  },
  {
   "cell_type": "code",
   "execution_count": 46,
   "metadata": {},
   "outputs": [],
   "source": [
    "labels = labels.reshape((65,1))\n",
    "time_labels = time_labels.reshape(1,65).astype(np.int32)"
   ]
  },
  {
   "cell_type": "code",
   "execution_count": 47,
   "metadata": {},
   "outputs": [
    {
     "data": {
      "text/plain": [
       "array([[590, 580, 570, 560, 550, 540, 530, 520, 510, 500, 490, 480, 470,\n",
       "        460, 450, 440, 430, 420, 410, 400, 390, 380, 370, 360, 350, 340,\n",
       "        330, 320, 310, 300, 290, 280, 270, 260, 250, 240, 230, 220, 210,\n",
       "        200, 190, 180, 170, 160, 150, 140, 130, 120, 110, 100,  90,  80,\n",
       "         70,  60,  50,  40,  30,  20,  10,   0,   0,   0,   0,   0,   0]])"
      ]
     },
     "execution_count": 47,
     "metadata": {},
     "output_type": "execute_result"
    }
   ],
   "source": [
    "time_labels"
   ]
  },
  {
   "cell_type": "code",
   "execution_count": 61,
   "metadata": {},
   "outputs": [
    {
     "ename": "TypeError",
     "evalue": "DynamicGraphTemporalSignal.__init__() takes 5 positional arguments but 6 were given",
     "output_type": "error",
     "traceback": [
      "\u001b[1;31m---------------------------------------------------------------------------\u001b[0m",
      "\u001b[1;31mTypeError\u001b[0m                                 Traceback (most recent call last)",
      "Cell \u001b[1;32mIn [61], line 1\u001b[0m\n\u001b[1;32m----> 1\u001b[0m data_loader \u001b[39m=\u001b[39m DynamicGraphTemporalSignal(edges,\u001b[39mlist\u001b[39;49m(edge_weights),features,labels, time_ints)\n",
      "\u001b[1;31mTypeError\u001b[0m: DynamicGraphTemporalSignal.__init__() takes 5 positional arguments but 6 were given"
     ]
    }
   ],
   "source": [
    "data_loader = DynamicGraphTemporalSignal(edges,list(edge_weights),features,labels, time_ints)"
   ]
  },
  {
   "cell_type": "code",
   "execution_count": 55,
   "metadata": {},
   "outputs": [
    {
     "name": "stdout",
     "output_type": "stream",
     "text": [
      "tensor([2703401323856, 2702667896112, 2703401329376, 2702667896112,\n",
      "        2703401329536, 2702667896112, 2703401331296, 2702667896112,\n",
      "        2703253335824, 2702667896112, 2703401326336, 2702667896112,\n",
      "        2703401324176, 2702667896112, 2703401332896, 2702667896112,\n",
      "        2703401323776, 2702667896112, 2703401324016, 2702667896112,\n",
      "        2703401334816, 2702667896112, 2703400803008, 2702667896112,\n",
      "        2703400803808, 2702667896112, 2703400803168, 2702667896112,\n",
      "        2703400801568, 2702667896112, 2703400805088, 2702667896112,\n",
      "        2703400800288, 2702667896112, 2703400800688, 2702667896112,\n",
      "        2703400800928, 2702667896112, 2703400804768, 2702667896112,\n",
      "        2703400804288, 2702667896112, 2703400803888, 2702667896112,\n",
      "        2703400804528, 2702667896112, 2703400805888, 2702667896112,\n",
      "        2703400806528, 2702667896112, 2703400805648, 2702667896112,\n",
      "        2703400806128, 2702667896112, 2703400806608, 2702667896112,\n",
      "        2703400806448, 2702667896112, 2703400801248, 2702667896112,\n",
      "        2703400806688, 2702667896112, 2703400802528, 2702667896112,\n",
      "        2703400802608, 2702667896112, 2703400803088, 2702667896112,\n",
      "        2703400802688, 2702667896112, 2703400803408, 2702667896112,\n",
      "        2703400803248, 2702667896112, 2703400802768, 2702667896112,\n",
      "        2703400801888, 2702667896112, 2703400801488, 2702667896112,\n",
      "        2703400802208, 2702667896112, 2703400801808, 2702667896112,\n",
      "        2703400800208, 2702667896112, 2703400799088, 2702667896112,\n",
      "        2703400799568, 2702667896112, 2703400803328, 2702667896112,\n",
      "        2703400799968, 2702667896112, 2703400799008, 2702667896112,\n",
      "        2703400811968, 2702667896112, 2703400812448, 2702667896112,\n",
      "        2703400799248, 2702667896112, 2703400804128, 2702667896112,\n",
      "        2703402220880, 2702667896112, 2703402220016, 2702667896112,\n",
      "        2703402219920, 2702667896112, 2703400799168, 2702667896112,\n",
      "        2703400801168, 2702667896112, 2703400801328, 2702667896112,\n",
      "        2703400804208, 2702667896112, 2703400807568, 2702667896112,\n",
      "        2703400801408, 2702667896112, 2703400803648, 2702667896112,\n",
      "        2703401702128, 2702667896112, 2703394956320, 2702667896112,\n",
      "        2703394955360, 2702667896112, 2703396187520, 2702667896112,\n",
      "        2703245001952, 2702667896112, 2703402064256, 2702667896112,\n",
      "        2703402220208, 2702667896112, 2703402220784, 2702667896112,\n",
      "        2703402064496, 2702667896112, 2703402063776, 2702667896112,\n",
      "        2703402220304, 2702667896112, 2703402220496, 2702667896112,\n",
      "        2703402221072, 2702667896112, 2703402220592, 2702667896112,\n",
      "        2703402220400, 2702667896112, 2703402221360, 2702667896112,\n",
      "        2703402220112, 2702667896112, 2703402221456, 2702667896112,\n",
      "        2703402220976, 2702667896112, 2703402220688, 2702667896112,\n",
      "        2703402221264, 2702667896112, 2703402221168, 2702667896112,\n",
      "        2703402064096, 2702667896112, 2703402065696, 2702667896112,\n",
      "        2703402205808, 2702667896112, 2703402065776, 2702667896112,\n",
      "        2703402065936, 2702667896112, 2703402205616, 2702667896112,\n",
      "        2703402065856, 2702667896112, 2703402066096, 2702667896112,\n",
      "        2703402063696, 2702667896112, 2703402066016, 2702667896112,\n",
      "        2703402066256, 2702667896112, 2703402066176, 2702667896112,\n",
      "        2703402066336, 2702667896112, 2703402206288, 2702667896112,\n",
      "        2703402206384, 2702667896112, 2703402066496, 2702667896112,\n",
      "        2703402066416, 2702667896112, 2703402066576, 2702667896112,\n",
      "        2703402206480, 2702667896112, 2703402206576, 2702667896112,\n",
      "        2703402206672, 2702667896112, 2703402206768, 2702667896112,\n",
      "        2703402066736, 2702667896112, 2703402066656, 2702667896112,\n",
      "        2703402066816, 2702667896112, 2703402066896, 2702667896112,\n",
      "        2703402206864, 2702667896112, 2703402066976, 2702667896112,\n",
      "        2703402206960, 2702667896112, 2703402207056, 2702667896112,\n",
      "        2703402207152, 2702667896112, 2703402067136, 2702667896112,\n",
      "        2703402067216, 2702667896112, 2703402207248, 2702667896112,\n",
      "        2703402067616, 2702667896112, 2703402067696, 2702667896112,\n",
      "        2703402067536, 2702667896112, 2703402067776, 2702667896112,\n",
      "        2703402067856, 2702667896112, 2703402207344, 2702667896112,\n",
      "        2703402067936, 2702667896112, 2703402068016, 2702667896112,\n",
      "        2703402068096, 2702667896112, 2703402207440, 2702667896112,\n",
      "        2703402068176, 2702667896112, 2703402068416, 2702667896112,\n",
      "        2703402068256, 2702667896112, 2703402068816, 2702667896112,\n",
      "        2703402068656, 2702667896112, 2703402062336, 2702667896112,\n",
      "        2703402059616, 2702667896112, 2703402059056, 2702667896112,\n",
      "        2703402059376, 2702667896112, 2703402060416, 2702667896112,\n",
      "        2703402060496, 2702667896112, 2703402207536, 2702667896112,\n",
      "        2703402207632, 2702667896112, 2703402060656, 2702667896112,\n",
      "        2703402059936, 2702667896112, 2703402060576, 2702667896112,\n",
      "        2703402060736, 2702667896112, 2703402060896, 2702667896112,\n",
      "        2703402207728, 2702667896112, 2703402060976, 2702667896112,\n",
      "        2703402061056, 2702667896112, 2703402207824, 2702667896112,\n",
      "        2703402060816, 2702667896112, 2703402061136, 2702667896112,\n",
      "        2703402061216, 2702667896112, 2703402061296, 2702667896112,\n",
      "        2703402061536, 2702667896112, 2703402061856, 2702667896112,\n",
      "        2703402061456, 2702667896112, 2703402061936, 2702667896112,\n",
      "        2703402062016, 2702667896112, 2703402062096, 2702667896112,\n",
      "        2703402062416, 2702667896112, 2703402062256, 2702667896112,\n",
      "        2703402062176, 2702667896112, 2703402062496, 2702667896112,\n",
      "        2703402207920, 2702667896112, 2703402062656, 2702667896112,\n",
      "        2703402062576, 2702667896112, 2703402062896, 2702667896112,\n",
      "        2703402062816, 2702667896112, 2703402062736, 2702667896112,\n",
      "        2703402062976, 2702667896112, 2703402063136, 2702667896112,\n",
      "        2703402063056, 2702667896112, 2703402063376, 2702667896112,\n",
      "        2703402067056, 2702667896112, 2703402063216, 2702667896112,\n",
      "        2703402063296, 2702667896112, 2703402068896, 2702667896112,\n",
      "        2703402068736, 2702667896112, 2703402208016, 2702667896112,\n",
      "        2703402069056, 2702667896112, 2703402069136, 2702667896112,\n",
      "        2703402208112, 2702667896112, 2703402068976, 2702667896112,\n",
      "        2703402208208, 2702667896112, 2703402069216, 2702667896112,\n",
      "        2703402065456, 2702667896112, 2703402278128, 2702667896112,\n",
      "        2703402277088, 2702667896112, 2703402276928, 2702667896112,\n",
      "        2703402273168, 2702667896112, 2703402277168, 2702667896112,\n",
      "        2703402208304, 2702667896112, 2703402208400, 2702667896112,\n",
      "        2703402274048, 2702667896112, 2703402276688, 2702667896112,\n",
      "        2703402208496, 2702667896112, 2703402208592, 2702667896112,\n",
      "        2703402272448, 2702667896112, 2703402272848, 2702667896112,\n",
      "        2703402275008, 2702667896112, 2703402272208, 2702667896112,\n",
      "        2703402276048, 2702667896112, 2703402272528, 2702667896112,\n",
      "        2703402273728, 2702667896112, 2703402272288, 2702667896112,\n",
      "        2703402276528, 2702667896112, 2703402276448, 2702667896112,\n",
      "        2703402274608, 2702667896112, 2703402274128, 2702667896112,\n",
      "        2703402208688, 2702667896112, 2703402276128, 2702667896112,\n",
      "        2703402278048, 2702667896112, 2703402208784, 2702667896112,\n",
      "        2703402277008, 2702667896112, 2703402275168, 2702667896112,\n",
      "        2703402272768, 2702667896112, 2703402274848, 2702667896112,\n",
      "        2703402208880, 2702667896112, 2703402208976, 2702667896112,\n",
      "        2703402272608, 2702667896112, 2703402274688, 2702667896112,\n",
      "        2703402274928, 2702667896112, 2703402209072, 2702667896112,\n",
      "        2703402209168, 2702667896112, 2703402209264, 2702667896112,\n",
      "        2703402209360, 2702667896112, 2703402277568, 2702667896112,\n",
      "        2703402209456, 2702667896112, 2703402276368, 2702667896112,\n",
      "        2703402275968, 2702667896112, 2703402277248, 2702667896112,\n",
      "        2703402275408, 2702667896112, 2703402275808, 2702667896112,\n",
      "        2703402277648, 2702667896112, 2703402277968, 2702667896112,\n",
      "        2703402272688, 2702667896112, 2703402276208, 2702667896112,\n",
      "        2703402274528, 2702667896112, 2703402209552, 2702667896112,\n",
      "        2703402209648, 2702667896112, 2703402209744, 2702667896112,\n",
      "        2703402209840, 2702667896112, 2703402209936, 2702667896112,\n",
      "        2703402210032, 2702667896112, 2703402210128, 2702667896112,\n",
      "        2703402210224, 2702667896112, 2703402369072, 2702667896112,\n",
      "        2703402369168, 2702667896112, 2703402369264, 2702667896112,\n",
      "        2703402275248, 2702667896112, 2703402277888, 2702667896112,\n",
      "        2703402272928, 2702667896112, 2703402273968, 2702667896112,\n",
      "        2703402273328, 2702667896112, 2703402273888, 2702667896112,\n",
      "        2703402369360, 2702667896112, 2703402369456, 2702667896112,\n",
      "        2703402273248, 2702667896112, 2703402369552, 2702667896112,\n",
      "        2703402273008, 2702667896112, 2703402369648, 2702667896112,\n",
      "        2703402369744, 2702667896112, 2703402369840, 2702667896112,\n",
      "        2703402274368, 2702667896112, 2703402275728, 2702667896112,\n",
      "        2703402274288, 2702667896112, 2703402369936, 2702667896112,\n",
      "        2703402275088, 2702667896112, 2703402272368, 2702667896112,\n",
      "        2703402370032, 2702667896112, 2703402370128, 2702667896112,\n",
      "        2703402276848, 2702667896112, 2703402370224, 2702667896112,\n",
      "        2703402370320, 2702667896112, 2703402370416, 2702667896112,\n",
      "        2703402370512, 2702667896112, 2703402370608, 2702667896112,\n",
      "        2703402370704, 2702667896112, 2703402370800, 2702667896112,\n",
      "        2703402370896, 2702667896112, 2703402370992, 2702667896112,\n",
      "        2703402276608, 2702667896112, 2703402273488, 2702667896112,\n",
      "        2703402277328, 2702667896112, 2703402273568, 2702667896112,\n",
      "        2703402275888, 2702667896112, 2703402276288, 2702667896112,\n",
      "        2703402277808, 2702667896112, 2703402274768, 2702667896112])\n"
     ]
    }
   ],
   "source": [
    "snapshot=data_loader.__getitem__(1)\n",
    "print(snapshot.time_labels)"
   ]
  },
  {
   "cell_type": "code",
   "execution_count": null,
   "metadata": {},
   "outputs": [],
   "source": [
    "def calculate_pearson_correlation(eeg_array):\n",
    "    for n,channel in enumerate(eeg_array):\n",
    "        for p,channel2 in enumerate(eeg_array):\n",
    "            print(f'Correlation of {n} and {p} is {pearsonr(channel,channel2)}')\n"
   ]
  },
  {
   "cell_type": "code",
   "execution_count": null,
   "metadata": {},
   "outputs": [],
   "source": [
    "calculate_pearson_correlation(data)"
   ]
  },
  {
   "cell_type": "code",
   "execution_count": null,
   "metadata": {},
   "outputs": [],
   "source": [
    "plv_matrix, plv_vector = plv_connectivity(18,data)"
   ]
  },
  {
   "cell_type": "code",
   "execution_count": null,
   "metadata": {},
   "outputs": [],
   "source": [
    "plv_vector.shape"
   ]
  },
  {
   "cell_type": "code",
   "execution_count": null,
   "metadata": {},
   "outputs": [],
   "source": [
    "phase1 = np.angle(np.fft.fft(sig1))\n",
    "phase2 = np.angle(np.fft.fft(sig2))"
   ]
  },
  {
   "cell_type": "code",
   "execution_count": null,
   "metadata": {},
   "outputs": [],
   "source": [
    "phase_synchrony = 1-np.sin(np.abs(phase1-phase2)/2)"
   ]
  },
  {
   "cell_type": "code",
   "execution_count": null,
   "metadata": {},
   "outputs": [],
   "source": [
    "def phase_locking_value(theta1, theta2):\n",
    "    phase1 = np.angle(np.fft.fft(theta1))\n",
    "    phase2 = np.angle(np.fft.fft(theta2))\n",
    "    phase_synchrony = 1-np.sin(np.abs(phase1-phase2)/2)\n",
    "    complex_phase_diff = np.exp(np.complex(0,1)*(phase_synchrony))\n",
    "    plv = np.abs(np.sum(complex_phase_diff))/len(theta1)\n",
    "    return plv"
   ]
  },
  {
   "cell_type": "code",
   "execution_count": null,
   "metadata": {},
   "outputs": [],
   "source": [
    "def calculate_plv_correlation(eeg_array):\n",
    "    for n,channel in enumerate(eeg_array):\n",
    "        for p,channel2 in enumerate(eeg_array):\n",
    "            print(f'Correlation of {n} and {p} is {phase_locking_value(channel,channel2)}')"
   ]
  },
  {
   "cell_type": "code",
   "execution_count": null,
   "metadata": {},
   "outputs": [],
   "source": [
    "calculate_plv_correlation(data)"
   ]
  },
  {
   "cell_type": "code",
   "execution_count": null,
   "metadata": {},
   "outputs": [],
   "source": [
    "data_preprocessed._data.shape"
   ]
  },
  {
   "cell_type": "code",
   "execution_count": null,
   "metadata": {},
   "outputs": [],
   "source": [
    "start_ev = np.array([1288,2000])\n",
    "end_ev = np.array([1344,2100])\n"
   ]
  },
  {
   "cell_type": "code",
   "execution_count": null,
   "metadata": {},
   "outputs": [],
   "source": [
    "\n",
    "features,labels,time_labels = utils.extract_training_data_and_labels(input_array,start_ev,end_ev,overlap=0)"
   ]
  },
  {
   "cell_type": "code",
   "execution_count": null,
   "metadata": {},
   "outputs": [],
   "source": [
    "list_feats = features.tolist()"
   ]
  },
  {
   "cell_type": "code",
   "execution_count": null,
   "metadata": {},
   "outputs": [],
   "source": [
    "features.shape"
   ]
  },
  {
   "cell_type": "code",
   "execution_count": null,
   "metadata": {},
   "outputs": [],
   "source": [
    "np.array(list_feats).shape"
   ]
  },
  {
   "cell_type": "code",
   "execution_count": null,
   "metadata": {},
   "outputs": [],
   "source": [
    "adult_data =Path('raw_dataset')\n",
    "peprocessed_data = Path('preprocessed_data')\n",
    "subject_seizures = Path('raw_dataset/RECORDS-WITH-SEIZURES')"
   ]
  },
  {
   "cell_type": "code",
   "execution_count": null,
   "metadata": {},
   "outputs": [],
   "source": [
    "utils.preprocess_dataset(subject_seizures,adult_data,peprocessed_data)"
   ]
  },
  {
   "cell_type": "code",
   "execution_count": null,
   "metadata": {},
   "outputs": [],
   "source": [
    "data_raw =utils.load_and_dump_channels(Path('raw_dataset/chb01/chb01_03.edf'))\n",
    "utils.reorder_channels_chbmit(data_raw)\n",
    "raw_copy = utils.run_preprocessing(data_raw,18,apply_ica=False,apply_pca = True,freq_l=2)"
   ]
  }
 ],
 "metadata": {
  "kernelspec": {
   "display_name": "Python 3.10.4 ('sano_eeg')",
   "language": "python",
   "name": "python3"
  },
  "language_info": {
   "codemirror_mode": {
    "name": "ipython",
    "version": 3
   },
   "file_extension": ".py",
   "mimetype": "text/x-python",
   "name": "python",
   "nbconvert_exporter": "python",
   "pygments_lexer": "ipython3",
   "version": "3.10.4"
  },
  "orig_nbformat": 4,
  "vscode": {
   "interpreter": {
    "hash": "5382ef638fa5c12c498aced3863f52a5a1fec44f4008cfb813246c6500772437"
   }
  }
 },
 "nbformat": 4,
 "nbformat_minor": 2
}
