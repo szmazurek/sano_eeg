{
 "cells": [
  {
   "cell_type": "code",
   "execution_count": 2,
   "metadata": {},
   "outputs": [],
   "source": [
    "import numpy as np\n",
    "from matplotlib import pyplot as plt\n",
    "import utils\n",
    "from scipy import signal\n",
    "import mne\n"
   ]
  },
  {
   "cell_type": "code",
   "execution_count": 11,
   "metadata": {},
   "outputs": [
    {
     "name": "stdout",
     "output_type": "stream",
     "text": [
      "Removing channel --0\n",
      "Removing channel --1\n",
      "Removing channel --2\n",
      "Removing channel --3\n",
      "Removing channel --4\n",
      "Removing channel T8-P8-1\n"
     ]
    },
    {
     "name": "stderr",
     "output_type": "stream",
     "text": [
      "a:\\Sano\\utils.py:172: RuntimeWarning: Channel names are not unique, found duplicates for: {'-', 'T8-P8'}. Applying running numbers for duplicates.\n",
      "  data_raw = mne.io.read_raw_edf(filepath, preload=False, verbose=False)\n",
      "a:\\Sano\\utils.py:172: RuntimeWarning: Scaling factor is not defined in following channels:\n",
      "--0, --1, --2, --3, --4\n",
      "  data_raw = mne.io.read_raw_edf(filepath, preload=False, verbose=False)\n"
     ]
    }
   ],
   "source": [
    "data_preprocessed = mne.io.read_raw_edf(r'A:\\Sano\\preprocessed_adult\\chb21\\chb21_19.edf', preload=False, verbose=False)\n",
    "data_raw = utils.load_and_dump_channels(r'A:\\Sano\\adult_data\\chb21\\chb21_19.edf')"
   ]
  },
  {
   "cell_type": "code",
   "execution_count": 5,
   "metadata": {},
   "outputs": [],
   "source": [
    "%matplotlib qt"
   ]
  },
  {
   "cell_type": "code",
   "execution_count": null,
   "metadata": {},
   "outputs": [],
   "source": [
    "adult_data =r'A:\\Sano\\adult_data'\n",
    "peprocessed_data = r'A:\\Sano\\preprocessed_adult'\n",
    "subject_seizures = r'A:\\Sano\\adult_data\\RECORDS-WITH-SEIZURES'"
   ]
  },
  {
   "cell_type": "code",
   "execution_count": 3,
   "metadata": {},
   "outputs": [
    {
     "name": "stdout",
     "output_type": "stream",
     "text": [
      "Finished preprocessing subject chb23/chb23_09.edf.\n",
      "Subject chb24/chb24_01.edf not found.\n",
      "Subject chb24/chb24_03.edf not found.\n",
      "Subject chb24/chb24_04.edf not found.\n",
      "Subject chb24/chb24_06.edf not found.\n",
      "Subject chb24/chb24_07.edf not found.\n",
      "Subject chb24/chb24_09.edf not found.\n",
      "Subject chb24/chb24_11.edf not found.\n",
      "Subject chb24/chb24_13.edf not found.\n",
      "Subject chb24/chb24_14.edf not found.\n",
      "Subject chb24/chb24_15.edf not found.\n",
      "Subject chb24/chb24_17.edf not found.\n",
      "Subject chb24/chb24_21.edf not found.\n"
     ]
    }
   ],
   "source": [
    "utils.preprocess_dataset(subject_seizures,adult_data,peprocessed_data)"
   ]
  },
  {
   "cell_type": "code",
   "execution_count": null,
   "metadata": {},
   "outputs": [],
   "source": [
    "data_raw =utils.load_and_dump_channels(r\"A:\\Sano\\adult_data\\chb23\\chb23_09.edf\")\n",
    "utils.reorder_channels_chbmit(data_raw)\n",
    "raw_copy = utils.run_preprocessing(data_raw,18,apply_ica=False,apply_pca = True,freq_l=2)"
   ]
  }
 ],
 "metadata": {
  "kernelspec": {
   "display_name": "Python 3.10.4 ('sano_eeg')",
   "language": "python",
   "name": "python3"
  },
  "language_info": {
   "codemirror_mode": {
    "name": "ipython",
    "version": 3
   },
   "file_extension": ".py",
   "mimetype": "text/x-python",
   "name": "python",
   "nbconvert_exporter": "python",
   "pygments_lexer": "ipython3",
   "version": "3.10.4"
  },
  "orig_nbformat": 4,
  "vscode": {
   "interpreter": {
    "hash": "5382ef638fa5c12c498aced3863f52a5a1fec44f4008cfb813246c6500772437"
   }
  }
 },
 "nbformat": 4,
 "nbformat_minor": 2
}
