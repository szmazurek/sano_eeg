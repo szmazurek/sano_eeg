{
 "cells": [
  {
   "cell_type": "code",
   "execution_count": 1,
   "metadata": {},
   "outputs": [
    {
     "name": "stderr",
     "output_type": "stream",
     "text": [
      "a:\\Users\\Szymon Mazurek\\anaconda3\\envs\\sano_eeg\\lib\\site-packages\\tqdm\\auto.py:22: TqdmWarning: IProgress not found. Please update jupyter and ipywidgets. See https://ipywidgets.readthedocs.io/en/stable/user_install.html\n",
      "  from .autonotebook import tqdm as notebook_tqdm\n"
     ]
    }
   ],
   "source": [
    "import numpy as np\n",
    "from pathlib import Path\n",
    "import utils\n",
    "import mne\n"
   ]
  },
  {
   "cell_type": "code",
   "execution_count": 7,
   "metadata": {},
   "outputs": [],
   "source": [
    "data_preprocessed = mne.io.read_raw_edf(Path('preprocessed_data/chb21/chb21_19.edf'), preload=False, verbose=False)\n",
    "input_array = data_preprocessed.get_data()"
   ]
  },
  {
   "cell_type": "code",
   "execution_count": 3,
   "metadata": {},
   "outputs": [],
   "source": [
    "def prepare_timestep_array(array, timestep, overlap):\n",
    "    \"\"\"Preprocess input array of shape [n_nodes,feature_per_node,samples]\n",
    "    into [samples_count,n_nodes,feature_per_node,timestep].\"\"\"\n",
    "    features = [\n",
    "        array[:, :, i : i + timestep]\n",
    "        for i in range(0, array.shape[2] - timestep + 1, timestep - overlap)\n",
    "    ]\n",
    "    return np.array(features)\n",
    "\n",
    "\n",
    "def prepare_timestep_label(array, timestep, overlap):\n",
    "    \"\"\"Preprocess input array of shape [n_nodes,feature_per_node,samples]\n",
    "    into [samples_count,n_nodes,feature_per_node,timestep].\"\"\"\n",
    "    time_to_seizure = array.shape[2]\n",
    "    seconds = [\n",
    "        (time_to_seizure - i) / 256\n",
    "        for i in range(timestep, array.shape[2], timestep - overlap)\n",
    "    ]\n",
    "    return np.array(seconds)"
   ]
  },
  {
   "cell_type": "code",
   "execution_count": 9,
   "metadata": {},
   "outputs": [],
   "source": [
    "start_ev = np.array([1288,2000])\n",
    "end_ev = np.array([1344,2100])\n"
   ]
  },
  {
   "cell_type": "code",
   "execution_count": 42,
   "metadata": {},
   "outputs": [],
   "source": [
    "\n",
    "features,labels,time_labels = extract_training_data_and_labels_array(input_array,start_ev,end_ev,overlap=0)"
   ]
  },
  {
   "cell_type": "code",
   "execution_count": null,
   "metadata": {},
   "outputs": [],
   "source": [
    "adult_data =Path('raw_dataset')\n",
    "peprocessed_data = Path('preprocessed_data')\n",
    "subject_seizures = Path('raw_dataset/RECORDS-WITH-SEIZURES')"
   ]
  },
  {
   "cell_type": "code",
   "execution_count": null,
   "metadata": {},
   "outputs": [],
   "source": [
    "utils.preprocess_dataset(subject_seizures,adult_data,peprocessed_data)"
   ]
  },
  {
   "cell_type": "code",
   "execution_count": null,
   "metadata": {},
   "outputs": [],
   "source": [
    "data_raw =utils.load_and_dump_channels(Path('raw_dataset/chb01/chb01_03.edf'))\n",
    "utils.reorder_channels_chbmit(data_raw)\n",
    "raw_copy = utils.run_preprocessing(data_raw,18,apply_ica=False,apply_pca = True,freq_l=2)"
   ]
  }
 ],
 "metadata": {
  "kernelspec": {
   "display_name": "Python 3.10.4 ('sano_eeg')",
   "language": "python",
   "name": "python3"
  },
  "language_info": {
   "codemirror_mode": {
    "name": "ipython",
    "version": 3
   },
   "file_extension": ".py",
   "mimetype": "text/x-python",
   "name": "python",
   "nbconvert_exporter": "python",
   "pygments_lexer": "ipython3",
   "version": "3.10.4"
  },
  "orig_nbformat": 4,
  "vscode": {
   "interpreter": {
    "hash": "5382ef638fa5c12c498aced3863f52a5a1fec44f4008cfb813246c6500772437"
   }
  }
 },
 "nbformat": 4,
 "nbformat_minor": 2
}
